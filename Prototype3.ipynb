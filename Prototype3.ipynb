{
 "cells": [
  {
   "cell_type": "markdown",
   "metadata": {},
   "source": [
    "### Imports"
   ]
  },
  {
   "cell_type": "code",
   "execution_count": 24,
   "metadata": {},
   "outputs": [],
   "source": [
    "import os\n",
    "import pandas as pd\n",
    "import tensorflow as tf\n",
    "from tensorflow.keras import layers, models\n",
    "from tensorflow.keras.preprocessing.image import load_img, img_to_array\n",
    "from sklearn.model_selection import train_test_split\n",
    "import matplotlib.pyplot as plt\n",
    "import cv2\n",
    "import seaborn as sns\n",
    "from tensorflow.keras.models import load_model"
   ]
  },
  {
   "cell_type": "code",
   "execution_count": 25,
   "metadata": {},
   "outputs": [
    {
     "name": "stdout",
     "output_type": "stream",
     "text": [
      "[]\n"
     ]
    }
   ],
   "source": [
    "print(tf.config.list_physical_devices('GPU'))"
   ]
  },
  {
   "cell_type": "markdown",
   "metadata": {},
   "source": [
    "## Creating annotations\n",
    "First we need to transform our Yolo labels dataset into a csv file"
   ]
  },
  {
   "cell_type": "code",
   "execution_count": 26,
   "metadata": {},
   "outputs": [],
   "source": [
    "# Iterate over each label file in the labels folder\n",
    "def create_csv_annotations(images_folder, labels_folder, name):\n",
    "    annotations = []\n",
    "    image_width = 224\n",
    "    image_height = 224\n",
    "\n",
    "    for label_file in os.listdir(labels_folder):\n",
    "        if label_file.endswith('.txt'):\n",
    "            with open(os.path.join(labels_folder, label_file), 'r') as f:\n",
    "                lines = f.readlines()\n",
    "            \n",
    "            image_name = os.path.splitext(label_file)[0] + '.jpg'\n",
    "            image_path = os.path.join(images_folder, image_name)\n",
    "            \n",
    "            for line in lines:\n",
    "                class_label, x_center, y_center, width, height = map(float, line.split())\n",
    "                x_min = (x_center - width / 2)\n",
    "                y_min = (y_center - height / 2)\n",
    "                x_max = (x_center + width / 2)\n",
    "                y_max = (y_center + height / 2)\n",
    "                \n",
    "                annotations.append([image_path, x_min, y_min, x_max, y_max, image_width, image_height, class_label])\n",
    "\n",
    "        # Here we create a DataFrame from annotations list and then we convert the df into a csv file\n",
    "        df = pd.DataFrame(annotations, columns=['img_path', 'xmin', 'ymin', 'xmax', 'ymax', 'width', 'height', 'label'])\n",
    "        df.to_csv(name, index=False)"
   ]
  },
  {
   "cell_type": "code",
   "execution_count": 27,
   "metadata": {},
   "outputs": [],
   "source": [
    "create_csv_annotations('images/train', 'labels/train', 'annotations_train.csv')"
   ]
  },
  {
   "cell_type": "code",
   "execution_count": 28,
   "metadata": {},
   "outputs": [],
   "source": [
    "create_csv_annotations('images/test', 'labels/test', 'annotations_test.csv')"
   ]
  },
  {
   "cell_type": "code",
   "execution_count": 29,
   "metadata": {},
   "outputs": [],
   "source": [
    "create_csv_annotations('images/val', 'labels/val', 'annotations_val.csv')"
   ]
  },
  {
   "cell_type": "markdown",
   "metadata": {},
   "source": [
    "### Transforming the csv annotations to arrays required by TensorFlow"
   ]
  },
  {
   "cell_type": "code",
   "execution_count": 30,
   "metadata": {},
   "outputs": [],
   "source": [
    "train_annotations = pd.read_csv('annotations_train.csv')\n",
    "val_annotations = pd.read_csv('annotations_val.csv')\n",
    "test_annotations = pd.read_csv('annotations_test.csv')"
   ]
  },
  {
   "cell_type": "code",
   "execution_count": 31,
   "metadata": {},
   "outputs": [],
   "source": [
    "\n",
    "\n",
    "#train_annotations, val_annotations = train_test_split(annotations, test_size=0.2, random_state=42)\n",
    "\n",
    "# The 224 x 224 input is required because -> this is because vast majority of pretrained TF models\n",
    "# were trained using that input\n",
    "input_shape = (224, 224, 3)  # height, width, depth (this is the # of color channels RGB = 3)\n",
    "\n",
    "# Function to preprocess image and annotations\n",
    "# the annotations are still not in the format required for TF\n",
    "def preprocess_data(annotation):\n",
    "    image = load_img(annotation['img_path'], target_size=(input_shape[0], input_shape[1]))\n",
    "    image_array = img_to_array(image)\n",
    "    image_array /= 255.0\n",
    "    bbox = [annotation['xmin'], annotation['ymin'], annotation['xmax'], annotation['ymax']]\n",
    "    label = annotation['label']\n",
    "    return image_array, bbox, label\n",
    "\n",
    "train_data = train_annotations.apply(preprocess_data, axis=1)\n",
    "val_data = val_annotations.apply(preprocess_data, axis=1)\n",
    "test_data = test_annotations.apply(preprocess_data, axis=1)\n",
    "\n",
    "# Convert preprocessed data into arrays -> this is the format needed for TF\n",
    "X_train, y_train_bbox, y_train_label = zip(*train_data)\n",
    "X_val, y_val_bbox, y_val_label = zip(*val_data)\n",
    "X_test, y_test_bbox, y_test_label = zip(*test_data)\n",
    "\n",
    "# Convert lists to numpy arrays\n",
    "X_train = tf.convert_to_tensor(X_train)\n",
    "y_train_bbox = tf.convert_to_tensor(y_train_bbox)\n",
    "y_train_label = tf.convert_to_tensor(y_train_label)\n",
    "X_val = tf.convert_to_tensor(X_val)\n",
    "y_val_bbox = tf.convert_to_tensor(y_val_bbox)\n",
    "y_val_label = tf.convert_to_tensor(y_val_label)\n",
    "X_test = tf.convert_to_tensor(X_test)\n",
    "y_test_bbox = tf.convert_to_tensor(y_test_bbox)\n",
    "y_test_label = tf.convert_to_tensor(y_test_label)\n"
   ]
  },
  {
   "cell_type": "markdown",
   "metadata": {},
   "source": [
    "Here we are checking that the shapes of the images[0] and labels are the same"
   ]
  },
  {
   "cell_type": "code",
   "execution_count": 32,
   "metadata": {},
   "outputs": [
    {
     "data": {
      "text/plain": [
       "5944"
      ]
     },
     "execution_count": 32,
     "metadata": {},
     "output_type": "execute_result"
    }
   ],
   "source": [
    "len(X_train)"
   ]
  },
  {
   "cell_type": "code",
   "execution_count": 18,
   "metadata": {},
   "outputs": [
    {
     "data": {
      "text/plain": [
       "<tf.Tensor: shape=(2776, 4), dtype=float32, numpy=\n",
       "array([[0.5261985, 0.2484605, 0.9944255, 0.5728955],\n",
       "       [0.005574 , 0.2525665, 0.526198 , 0.9527715],\n",
       "       [0.0011145, 0.9486655, 0.0746935, 0.9856265],\n",
       "       ...,\n",
       "       [0.3500555, 0.6468175, 0.9520625, 0.8377825],\n",
       "       [0.4370125, 0.392197 , 0.6544035, 0.620123 ],\n",
       "       [0.620959 , 0.412731 , 0.812709 , 0.620123 ]], dtype=float32)>"
      ]
     },
     "execution_count": 18,
     "metadata": {},
     "output_type": "execute_result"
    }
   ],
   "source": [
    "y_train_bbox"
   ]
  },
  {
   "cell_type": "code",
   "execution_count": 33,
   "metadata": {},
   "outputs": [
    {
     "data": {
      "text/plain": [
       "TensorShape([5944, 224, 224, 3])"
      ]
     },
     "execution_count": 33,
     "metadata": {},
     "output_type": "execute_result"
    }
   ],
   "source": [
    "X_train.shape"
   ]
  },
  {
   "cell_type": "code",
   "execution_count": 34,
   "metadata": {},
   "outputs": [
    {
     "data": {
      "text/plain": [
       "TensorShape([5944])"
      ]
     },
     "execution_count": 34,
     "metadata": {},
     "output_type": "execute_result"
    }
   ],
   "source": [
    "y_train_label.shape"
   ]
  },
  {
   "cell_type": "code",
   "execution_count": 27,
   "metadata": {},
   "outputs": [
    {
     "data": {
      "text/plain": [
       "TensorShape([2776, 4])"
      ]
     },
     "execution_count": 27,
     "metadata": {},
     "output_type": "execute_result"
    }
   ],
   "source": [
    "y_train_bbox.shape"
   ]
  },
  {
   "cell_type": "code",
   "execution_count": 35,
   "metadata": {},
   "outputs": [
    {
     "data": {
      "text/plain": [
       "898"
      ]
     },
     "execution_count": 35,
     "metadata": {},
     "output_type": "execute_result"
    }
   ],
   "source": [
    "len(X_val)"
   ]
  },
  {
   "cell_type": "code",
   "execution_count": 36,
   "metadata": {},
   "outputs": [
    {
     "data": {
      "text/plain": [
       "1555"
      ]
     },
     "execution_count": 36,
     "metadata": {},
     "output_type": "execute_result"
    }
   ],
   "source": [
    "len(X_test)"
   ]
  },
  {
   "cell_type": "code",
   "execution_count": 37,
   "metadata": {},
   "outputs": [
    {
     "data": {
      "text/plain": [
       "TensorShape([1555])"
      ]
     },
     "execution_count": 37,
     "metadata": {},
     "output_type": "execute_result"
    }
   ],
   "source": [
    "y_test_label.shape"
   ]
  },
  {
   "cell_type": "markdown",
   "metadata": {},
   "source": [
    "## Concepts to wrap your head around the next models\n",
    "\n",
    "[Tensor flow intro -> Why sequential](https://towardsdatascience.com/a-comprehensive-introduction-to-tensorflows-sequential-api-and-model-for-deep-learning-c5e31aee49fa#:~:text=The%20sequential%20model%20allows%20us,for%20building%20deep%20learning%20models.): Here we have a more in depth explanation of what we are actually doing when adding layers to the model.Sequential and what that means. All of the following models work based on that cause we are training neural networks.\n",
    "\n",
    "[Input and output shapes for CNN](https://towardsdatascience.com/understanding-input-and-output-shapes-in-convolution-network-keras-f143923d56ca): This can help you understand why the value behind our input_shape and a bit more about the CNNs\n",
    "\n",
    "[Types of Convolutions in Deep Learning](https://towardsdatascience.com/types-of-convolutions-in-deep-learning-717013397f4d): Here we have some types of convolutions used by some of the next models. For example, MobileNetV2 uses depthwise separable convolutions, and those are explained here.\n",
    "\n",
    "[But What is a convolution?](https://www.youtube.com/watch?v=KuXjwB4LzSA):\n",
    "In case you really want to understand the basics and what a convolution really is."
   ]
  },
  {
   "cell_type": "markdown",
   "metadata": {},
   "source": [
    "## First model\n",
    "\n",
    "[Basics of the R-CNN model](https://towardsdatascience.com/object-detection-explained-r-cnn-a6c813937a76)"
   ]
  },
  {
   "cell_type": "code",
   "execution_count": null,
   "metadata": {},
   "outputs": [],
   "source": [
    "# This is the RCNN model, this is just base model for testing\n",
    "def create_rcnn_model(input_shape, num_classes):\n",
    "    model = models.Sequential([\n",
    "        layers.Conv2D(32, (3, 3), activation='relu', input_shape=input_shape),#batch_input_shape (if you wanted to give the batch_size)\n",
    "        layers.MaxPooling2D((2, 2)),\n",
    "        layers.Conv2D(64, (3, 3), activation='relu'),\n",
    "        layers.MaxPooling2D((2, 2)),\n",
    "        layers.Conv2D(64, (3, 3), activation='relu'),\n",
    "        layers.Flatten(), # Here we are basically changing the 4D output of the CNN to 2D so that we can use Dense\n",
    "        layers.Dense(64, activation='relu'),\n",
    "        layers.Dense(num_classes, activation='softmax', name='classifier_output')\n",
    "    ])\n",
    "    return model\n",
    "\n",
    "# Number of classes\n",
    "num_classes = train_annotations['label'].nunique()\n",
    "\n",
    "# Create an instance of the R-CNN model\n",
    "rcnn_model = create_rcnn_model(input_shape, num_classes)\n",
    "\n",
    "# Compile the model with appropriate losses and metrics\n",
    "rcnn_model.compile(optimizer='adam', loss='sparse_categorical_crossentropy', metrics=['accuracy'])\n",
    "\n",
    "# Train the model\n",
    "rcnn_model.fit(X_train, y_train_label, validation_data=(X_test, y_test_label), epochs=10)"
   ]
  },
  {
   "cell_type": "markdown",
   "metadata": {},
   "source": [
    "## RCNN With MobileNetV2\n",
    "\n",
    "[What is MobileNetV2](https://towardsdatascience.com/mobilenetv2-inverted-residuals-and-linear-bottlenecks-8a4362f4ffd5)"
   ]
  },
  {
   "cell_type": "code",
   "execution_count": 24,
   "metadata": {},
   "outputs": [],
   "source": [
    "from tensorflow.keras.applications import ResNet50\n",
    "from tensorflow.keras.applications import MobileNetV2\n",
    "from tensorflow.keras.optimizers import Adam"
   ]
  },
  {
   "cell_type": "code",
   "execution_count": 38,
   "metadata": {},
   "outputs": [
    {
     "name": "stderr",
     "output_type": "stream",
     "text": [
      "WARNING:absl:`lr` is deprecated in Keras optimizer, please use `learning_rate` or use the legacy optimizer, e.g.,tf.keras.optimizers.legacy.Adam.\n"
     ]
    },
    {
     "name": "stdout",
     "output_type": "stream",
     "text": [
      "Epoch 1/15\n",
      "87/87 [==============================] - 277s 3s/step - loss: 0.7821 - accuracy: 0.7003 - val_loss: 1.1293 - val_accuracy: 0.6752\n",
      "Epoch 2/15\n",
      "87/87 [==============================] - 257s 3s/step - loss: 0.6065 - accuracy: 0.7720 - val_loss: 0.9024 - val_accuracy: 0.6822\n",
      "Epoch 3/15\n",
      "87/87 [==============================] - 257s 3s/step - loss: 0.6084 - accuracy: 0.7622 - val_loss: 3.2185 - val_accuracy: 0.1281\n",
      "Epoch 4/15\n",
      "87/87 [==============================] - 257s 3s/step - loss: 0.5777 - accuracy: 0.7741 - val_loss: 1.2873 - val_accuracy: 0.2352\n",
      "Epoch 5/15\n",
      "87/87 [==============================] - 260s 3s/step - loss: 0.5349 - accuracy: 0.7878 - val_loss: 1.9865 - val_accuracy: 0.2421\n",
      "Epoch 6/15\n",
      "87/87 [==============================] - 257s 3s/step - loss: 0.5108 - accuracy: 0.7947 - val_loss: 3.5161 - val_accuracy: 0.3725\n",
      "Epoch 7/15\n",
      "87/87 [==============================] - 256s 3s/step - loss: 0.5183 - accuracy: 0.7918 - val_loss: 0.9597 - val_accuracy: 0.6694\n",
      "Epoch 8/15\n",
      "87/87 [==============================] - 270s 3s/step - loss: 0.5351 - accuracy: 0.7932 - val_loss: 1.0858 - val_accuracy: 0.5588\n",
      "Epoch 9/15\n",
      "87/87 [==============================] - 270s 3s/step - loss: 0.5175 - accuracy: 0.7885 - val_loss: 3.3442 - val_accuracy: 0.2875\n",
      "Epoch 10/15\n",
      "87/87 [==============================] - 249s 3s/step - loss: 0.4931 - accuracy: 0.7929 - val_loss: 3.3598 - val_accuracy: 0.1153\n",
      "Epoch 11/15\n",
      "87/87 [==============================] - 251s 3s/step - loss: 0.5413 - accuracy: 0.7885 - val_loss: 1.5074 - val_accuracy: 0.2887\n",
      "Epoch 12/15\n",
      "87/87 [==============================] - 247s 3s/step - loss: 0.4938 - accuracy: 0.8015 - val_loss: 1.4249 - val_accuracy: 0.1804\n",
      "Epoch 13/15\n",
      "87/87 [==============================] - 245s 3s/step - loss: 0.4745 - accuracy: 0.7983 - val_loss: 0.8281 - val_accuracy: 0.6787\n",
      "Epoch 14/15\n",
      "87/87 [==============================] - 246s 3s/step - loss: 0.4624 - accuracy: 0.8069 - val_loss: 1.0161 - val_accuracy: 0.5565\n",
      "Epoch 15/15\n",
      "87/87 [==============================] - 245s 3s/step - loss: 0.4389 - accuracy: 0.8102 - val_loss: 0.8252 - val_accuracy: 0.7218\n"
     ]
    },
    {
     "data": {
      "text/plain": [
       "<keras.src.callbacks.History at 0x140f2773400>"
      ]
     },
     "execution_count": 38,
     "metadata": {},
     "output_type": "execute_result"
    }
   ],
   "source": [
    "def create_rcnn_MovileNetV2(input_shape, num_classes):\n",
    "    \n",
    "    base_model = MobileNetV2(input_shape=input_shape, include_top=False, weights='imagenet')\n",
    "    \n",
    "    for layer in base_model.layers[-20:]:\n",
    "        layer.trainable = True\n",
    "    \n",
    "    # Additional convolutional layers with reduced kernel size\n",
    "    conv_layers = models.Sequential([ #Without the padding / strides I get dimensionality errors :(\n",
    "        layers.Conv2D(32, (3, 3), activation='relu', padding='same'),  # Add padding to maintain spatial dimensions\n",
    "        layers.MaxPooling2D((2, 2), strides=(1, 1)),  # Reduce the pooling stride\n",
    "        layers.Conv2D(64, (3, 3), activation='relu', padding='same'),  # Add padding to maintain spatial dimensions\n",
    "        layers.MaxPooling2D((2, 2), strides=(1, 1)),  # Reduce the pooling stride\n",
    "        layers.Conv2D(64, (3, 3), activation='relu', padding='same'),  # Add padding to maintain spatial dimensions\n",
    "    ])\n",
    "    \n",
    "    top_layers = models.Sequential([\n",
    "        layers.Flatten(),\n",
    "        layers.Dense(64, activation='relu'),\n",
    "        layers.Dense(num_classes, activation='softmax', name='classifier_output')\n",
    "    ])\n",
    "    \n",
    "    # Combine the base ResNet model, additional convolutional layers, and top layers\n",
    "    model = models.Sequential([\n",
    "        base_model,\n",
    "        conv_layers,\n",
    "        top_layers\n",
    "    ])\n",
    "    \n",
    "    return model\n",
    "\n",
    "# Number of classes\n",
    "num_classes = train_annotations['label'].nunique()\n",
    "\n",
    "input_shape = (224, 224, 3)  # 224 is the one used by ResNet\n",
    "rcnn_resnet_model = create_rcnn_MovileNetV2(input_shape, num_classes)\n",
    "\n",
    "rcnn_resnet_model.compile(optimizer=Adam(lr=0.001), loss='sparse_categorical_crossentropy', metrics=['accuracy'])\n",
    "\n",
    "rcnn_resnet_model.fit(X_train, y_train_label, validation_data=(X_test, y_test_label), epochs=15)\n"
   ]
  },
  {
   "cell_type": "code",
   "execution_count": 40,
   "metadata": {},
   "outputs": [
    {
     "name": "stdout",
     "output_type": "stream",
     "text": [
      "14/14 [==============================] - 7s 525ms/step\n",
      "                precision    recall  f1-score   support\n",
      "\n",
      "     Vehiculos       0.00      0.00      0.00         3\n",
      "Construcciones       0.80      0.93      0.86       254\n",
      "          Vias       0.73      0.39      0.51        98\n",
      "          Rios       0.67      0.83      0.74        60\n",
      "       Mineria       0.00      0.00      0.00         9\n",
      "\n",
      "      accuracy                           0.77       424\n",
      "     macro avg       0.44      0.43      0.42       424\n",
      "  weighted avg       0.74      0.77      0.74       424\n",
      "\n",
      "Confusion Matrix:\n",
      "[[  0   0   0   3   0]\n",
      " [  0 237   5  12   0]\n",
      " [  0  55  38   5   0]\n",
      " [  0   3   7  50   0]\n",
      " [  0   2   2   5   0]]\n"
     ]
    },
    {
     "name": "stderr",
     "output_type": "stream",
     "text": [
      "c:\\Users\\juank\\AppData\\Local\\Programs\\Python\\Python38\\lib\\site-packages\\sklearn\\metrics\\_classification.py:1248: UndefinedMetricWarning: Precision and F-score are ill-defined and being set to 0.0 in labels with no predicted samples. Use `zero_division` parameter to control this behavior.\n",
      "  _warn_prf(average, modifier, msg_start, len(result))\n",
      "c:\\Users\\juank\\AppData\\Local\\Programs\\Python\\Python38\\lib\\site-packages\\sklearn\\metrics\\_classification.py:1248: UndefinedMetricWarning: Precision and F-score are ill-defined and being set to 0.0 in labels with no predicted samples. Use `zero_division` parameter to control this behavior.\n",
      "  _warn_prf(average, modifier, msg_start, len(result))\n",
      "c:\\Users\\juank\\AppData\\Local\\Programs\\Python\\Python38\\lib\\site-packages\\sklearn\\metrics\\_classification.py:1248: UndefinedMetricWarning: Precision and F-score are ill-defined and being set to 0.0 in labels with no predicted samples. Use `zero_division` parameter to control this behavior.\n",
      "  _warn_prf(average, modifier, msg_start, len(result))\n"
     ]
    }
   ],
   "source": [
    "import numpy as np\n",
    "from sklearn.metrics import classification_report, confusion_matrix\n",
    "\n",
    "y_pred = np.argmax(rcnn_resnet_model.predict(X_val), axis=1)\n",
    "\n",
    "y_val_label = np.array(y_val_label, dtype=int)\n",
    "y_pred = np.array(y_pred, dtype=int)\n",
    "\n",
    "target_names = ['Vehiculos', 'Construcciones', 'Vias', 'Rios', 'Mineria']  # Get unique class labels\n",
    "print(classification_report(y_val_label, y_pred, target_names=target_names))\n",
    "\n",
    "conf_matrix = confusion_matrix(y_val_label, y_pred)\n",
    "print(\"Confusion Matrix:\")\n",
    "print(conf_matrix)"
   ]
  },
  {
   "cell_type": "code",
   "execution_count": 75,
   "metadata": {},
   "outputs": [
    {
     "name": "stderr",
     "output_type": "stream",
     "text": [
      "c:\\Users\\juank\\AppData\\Local\\Programs\\Python\\Python38\\lib\\site-packages\\keras\\src\\engine\\training.py:3000: UserWarning: You are saving your model as an HDF5 file via `model.save()`. This file format is considered legacy. We recommend using instead the native Keras format, e.g. `model.save('my_model.keras')`.\n",
      "  saving_api.save_model(\n"
     ]
    }
   ],
   "source": [
    "rcnn_resnet_model.save(\"saved_models/rcnn_resnet_model.h5\")"
   ]
  },
  {
   "cell_type": "code",
   "execution_count": 77,
   "metadata": {},
   "outputs": [],
   "source": [
    "loaded_model = load_model(\"saved_models/rcnn_resnet_model.h5\")\n",
    "#loaded_model is now the name of the model and the model per se\n",
    "#as example, in the next cell, y_pred now uses loaded_model"
   ]
  },
  {
   "cell_type": "code",
   "execution_count": 78,
   "metadata": {},
   "outputs": [
    {
     "name": "stdout",
     "output_type": "stream",
     "text": [
      "14/14 [==============================] - 10s 543ms/step\n",
      "                precision    recall  f1-score   support\n",
      "\n",
      "     Vehiculos       0.00      0.00      0.00         3\n",
      "Construcciones       0.80      0.93      0.86       254\n",
      "          Vias       0.73      0.39      0.51        98\n",
      "          Rios       0.67      0.83      0.74        60\n",
      "       Mineria       0.00      0.00      0.00         9\n",
      "\n",
      "      accuracy                           0.77       424\n",
      "     macro avg       0.44      0.43      0.42       424\n",
      "  weighted avg       0.74      0.77      0.74       424\n",
      "\n",
      "Confusion Matrix:\n",
      "[[  0   0   0   3   0]\n",
      " [  0 237   5  12   0]\n",
      " [  0  55  38   5   0]\n",
      " [  0   3   7  50   0]\n",
      " [  0   2   2   5   0]]\n"
     ]
    },
    {
     "name": "stderr",
     "output_type": "stream",
     "text": [
      "c:\\Users\\juank\\AppData\\Local\\Programs\\Python\\Python38\\lib\\site-packages\\sklearn\\metrics\\_classification.py:1248: UndefinedMetricWarning: Precision and F-score are ill-defined and being set to 0.0 in labels with no predicted samples. Use `zero_division` parameter to control this behavior.\n",
      "  _warn_prf(average, modifier, msg_start, len(result))\n",
      "c:\\Users\\juank\\AppData\\Local\\Programs\\Python\\Python38\\lib\\site-packages\\sklearn\\metrics\\_classification.py:1248: UndefinedMetricWarning: Precision and F-score are ill-defined and being set to 0.0 in labels with no predicted samples. Use `zero_division` parameter to control this behavior.\n",
      "  _warn_prf(average, modifier, msg_start, len(result))\n",
      "c:\\Users\\juank\\AppData\\Local\\Programs\\Python\\Python38\\lib\\site-packages\\sklearn\\metrics\\_classification.py:1248: UndefinedMetricWarning: Precision and F-score are ill-defined and being set to 0.0 in labels with no predicted samples. Use `zero_division` parameter to control this behavior.\n",
      "  _warn_prf(average, modifier, msg_start, len(result))\n"
     ]
    }
   ],
   "source": [
    "import numpy as np\n",
    "from sklearn.metrics import classification_report, confusion_matrix\n",
    "\n",
    "y_pred = np.argmax(loaded_model.predict(X_val), axis=1)\n",
    "\n",
    "y_val_label = np.array(y_val_label, dtype=int)\n",
    "y_pred = np.array(y_pred, dtype=int)\n",
    "\n",
    "target_names = ['Vehiculos', 'Construcciones', 'Vias', 'Rios', 'Mineria']  # Get unique class labels\n",
    "print(classification_report(y_val_label, y_pred, target_names=target_names))\n",
    "\n",
    "conf_matrix = confusion_matrix(y_val_label, y_pred)\n",
    "print(\"Confusion Matrix:\")\n",
    "print(conf_matrix)"
   ]
  },
  {
   "cell_type": "markdown",
   "metadata": {},
   "source": [
    "## Resnet152\n",
    "This one is the deepest variant of ResNet providing 152 layers"
   ]
  },
  {
   "cell_type": "code",
   "execution_count": 38,
   "metadata": {},
   "outputs": [],
   "source": [
    "import tensorflow as tf\n",
    "from tensorflow.keras.applications import ResNet152V2\n",
    "from tensorflow.keras import layers, models"
   ]
  },
  {
   "cell_type": "code",
   "execution_count": 39,
   "metadata": {},
   "outputs": [
    {
     "name": "stdout",
     "output_type": "stream",
     "text": [
      "Epoch 1/10\n",
      "186/186 [==============================] - 779s 4s/step - loss: 0.8910 - accuracy: 0.6798 - val_loss: 0.7781 - val_accuracy: 0.6965\n",
      "Epoch 2/10\n",
      "186/186 [==============================] - 725s 4s/step - loss: 0.7092 - accuracy: 0.7315 - val_loss: 0.7147 - val_accuracy: 0.7125\n",
      "Epoch 3/10\n",
      "186/186 [==============================] - 721s 4s/step - loss: 0.6399 - accuracy: 0.7490 - val_loss: 0.7059 - val_accuracy: 0.7209\n",
      "Epoch 4/10\n",
      "186/186 [==============================] - 724s 4s/step - loss: 0.6107 - accuracy: 0.7576 - val_loss: 0.6637 - val_accuracy: 0.7325\n",
      "Epoch 5/10\n",
      "186/186 [==============================] - 748s 4s/step - loss: 0.5887 - accuracy: 0.7648 - val_loss: 0.6852 - val_accuracy: 0.7338\n",
      "Epoch 6/10\n",
      "186/186 [==============================] - 736s 4s/step - loss: 0.5694 - accuracy: 0.7638 - val_loss: 0.6655 - val_accuracy: 0.7286\n",
      "Epoch 7/10\n",
      "186/186 [==============================] - 729s 4s/step - loss: 0.5481 - accuracy: 0.7715 - val_loss: 0.6753 - val_accuracy: 0.7280\n",
      "Epoch 8/10\n",
      "186/186 [==============================] - 730s 4s/step - loss: 0.5423 - accuracy: 0.7776 - val_loss: 0.6544 - val_accuracy: 0.7370\n",
      "Epoch 9/10\n",
      "186/186 [==============================] - 737s 4s/step - loss: 0.5252 - accuracy: 0.7845 - val_loss: 0.6387 - val_accuracy: 0.7402\n",
      "Epoch 10/10\n",
      "186/186 [==============================] - 724s 4s/step - loss: 0.5221 - accuracy: 0.7821 - val_loss: 0.6789 - val_accuracy: 0.7273\n",
      "Model: \"sequential_1\"\n",
      "_________________________________________________________________\n",
      " Layer (type)                Output Shape              Param #   \n",
      "=================================================================\n",
      " resnet152v2 (Functional)    (None, 7, 7, 2048)        58331648  \n",
      "                                                                 \n",
      " sequential (Sequential)     (None, 5)                 525829    \n",
      "                                                                 \n",
      "=================================================================\n",
      "Total params: 58857477 (224.52 MB)\n",
      "Trainable params: 525829 (2.01 MB)\n",
      "Non-trainable params: 58331648 (222.52 MB)\n",
      "_________________________________________________________________\n"
     ]
    }
   ],
   "source": [
    "def create_resnet152_model(input_shape, num_classes):\n",
    "    # Load pre-trained ResNet152V2 model without the top classification layer\n",
    "    base_model = ResNet152V2(weights='imagenet', include_top=False, input_shape=input_shape)\n",
    "\n",
    "    # Freeze the weights of the pre-trained layers\n",
    "    for layer in base_model.layers:\n",
    "        layer.trainable = False\n",
    "\n",
    "    # Add custom classification head\n",
    "    top_layers = models.Sequential([\n",
    "        layers.GlobalAveragePooling2D(),\n",
    "        layers.Dense(256, activation='relu'),\n",
    "        layers.Dropout(0.5),\n",
    "        layers.Dense(num_classes, activation='softmax')\n",
    "    ])\n",
    "\n",
    "    # Combine the base model with custom classification head\n",
    "    model = models.Sequential([\n",
    "        base_model,\n",
    "        top_layers\n",
    "    ])\n",
    "\n",
    "    return model\n",
    "\n",
    "input_shape = (224, 224, 3)  # Input shape for ResNet152V2\n",
    "num_classes = train_annotations['label'].nunique()\n",
    "\n",
    "# Create the ResNet152 model\n",
    "resnet152_model = create_resnet152_model(input_shape, num_classes)\n",
    "\n",
    "# Compile the model\n",
    "resnet152_model.compile(optimizer='adam', loss='sparse_categorical_crossentropy', metrics=['accuracy'])\n",
    "\n",
    "resnet152_model.fit(X_train, y_train_label, validation_data=(X_test, y_test_label), epochs=10, batch_size=32)\n",
    "\n",
    "# Print model summary\n",
    "resnet152_model.summary()"
   ]
  },
  {
   "cell_type": "code",
   "execution_count": 40,
   "metadata": {},
   "outputs": [
    {
     "name": "stdout",
     "output_type": "stream",
     "text": [
      "29/29 [==============================] - 91s 3s/step\n",
      "                precision    recall  f1-score   support\n",
      "\n",
      "     Vehiculos       0.83      0.23      0.36        44\n",
      "Construcciones       0.81      0.81      0.81       428\n",
      "          Vias       0.57      0.37      0.45       131\n",
      "          Rios       0.68      0.92      0.78       239\n",
      "       Mineria       0.58      0.50      0.54        56\n",
      "\n",
      "      accuracy                           0.73       898\n",
      "     macro avg       0.70      0.57      0.59       898\n",
      "  weighted avg       0.73      0.73      0.71       898\n",
      "\n",
      "Confusion Matrix:\n",
      "[[ 10  19   0   5  10]\n",
      " [  0 348  29  43   8]\n",
      " [  0  44  48  39   0]\n",
      " [  0  10   7 220   2]\n",
      " [  2   8   0  18  28]]\n"
     ]
    }
   ],
   "source": [
    "import numpy as np\n",
    "from sklearn.metrics import classification_report, confusion_matrix\n",
    "\n",
    "y_pred = np.argmax(resnet152_model.predict(X_val), axis=1)\n",
    "\n",
    "y_val_label = np.array(y_val_label, dtype=int)\n",
    "y_pred = np.array(y_pred, dtype=int)\n",
    "\n",
    "target_names = ['Vehiculos', 'Construcciones', 'Vias', 'Rios', 'Mineria']  # Get unique class labels\n",
    "print(classification_report(y_val_label, y_pred, target_names=target_names))\n",
    "\n",
    "conf_matrix = confusion_matrix(y_val_label, y_pred)\n",
    "print(\"Confusion Matrix:\")\n",
    "print(conf_matrix)"
   ]
  },
  {
   "cell_type": "code",
   "execution_count": 41,
   "metadata": {},
   "outputs": [
    {
     "name": "stderr",
     "output_type": "stream",
     "text": [
      "c:\\Users\\juank\\AppData\\Local\\Programs\\Python\\Python38\\lib\\site-packages\\keras\\src\\engine\\training.py:3000: UserWarning: You are saving your model as an HDF5 file via `model.save()`. This file format is considered legacy. We recommend using instead the native Keras format, e.g. `model.save('my_model.keras')`.\n",
      "  saving_api.save_model(\n"
     ]
    }
   ],
   "source": [
    "resnet152_model.save(\"saved_models/resnet152_model.h5\")"
   ]
  },
  {
   "cell_type": "code",
   "execution_count": 42,
   "metadata": {},
   "outputs": [],
   "source": [
    "resnet152_model = load_model(\"saved_models/resnet152_model.h5\")"
   ]
  },
  {
   "cell_type": "code",
   "execution_count": 14,
   "metadata": {},
   "outputs": [
    {
     "data": {
      "text/plain": [
       "array([3, 3, 3, 3, 3, 3, 3, 3, 3, 3, 3, 3, 3, 3, 3, 3, 3, 3, 3, 3, 3, 3,\n",
       "       3, 4, 1, 1, 1, 1, 1, 1, 2, 2, 2, 1, 1, 2, 2, 2, 2, 2, 1, 1, 1, 1,\n",
       "       1, 3, 3, 3, 3, 3, 3, 3, 3, 3, 3, 3, 3, 3, 4, 4, 3, 3, 3, 1, 1, 2,\n",
       "       2, 2, 2, 2, 2, 1, 1, 1, 1, 1, 1, 1, 1, 2, 1, 1, 1, 1, 2, 2, 2, 1,\n",
       "       2, 2, 4, 4, 3, 3, 3, 3, 3, 3, 3, 3, 3, 3, 3, 3, 1, 1, 1, 1, 1, 1,\n",
       "       1, 1, 1, 1, 1, 1, 1, 1, 1, 1, 1, 1, 1, 1, 1, 1, 1, 1, 1, 1, 1, 1,\n",
       "       1, 1, 1, 1, 2, 2, 2, 1, 1, 1, 1, 1, 1, 1, 1, 1, 1, 1, 1, 1, 1, 1,\n",
       "       1, 1, 1, 1, 1, 1, 1, 1, 2, 2, 2, 2, 2, 2, 2, 1, 1, 1, 1, 1, 1, 1,\n",
       "       1, 1, 1, 1, 1, 1, 1, 1, 1, 1, 1, 1, 1, 1, 1, 1, 1, 1, 1, 1, 1, 1,\n",
       "       1, 1, 1, 1, 1, 1, 1, 1, 1, 2, 2, 2, 2, 1, 1, 1, 1, 1, 1, 1, 1, 1,\n",
       "       1, 1, 1, 1, 1, 1, 2, 2, 2, 2, 2, 2, 2, 2, 2, 2, 2, 2, 2, 2, 2, 2,\n",
       "       3, 1, 1, 1, 1, 1, 1, 1, 1, 1, 1, 1, 1, 1, 1, 1, 1, 1, 1, 1, 1, 1,\n",
       "       1, 1, 1, 1, 1, 1, 1, 1, 1, 1, 1, 1, 1, 1, 1, 1, 1, 1, 1, 1, 1, 1,\n",
       "       1, 1, 1, 1, 1, 1, 1, 1, 1, 1, 1, 1, 1, 1, 1, 1, 1, 1, 1, 1, 1, 1,\n",
       "       1, 1, 1, 1, 1, 1, 1, 1, 1, 1, 1, 1, 1, 1, 1, 1, 1, 1, 1, 1, 1, 1,\n",
       "       1, 1, 1, 1, 1, 1, 1, 1, 1, 1, 1, 1, 1, 2, 2, 2, 2, 2, 2, 2, 2, 1,\n",
       "       1, 1, 1, 1, 1, 1, 1, 1, 1, 1, 1, 1, 1, 1, 1, 1, 1, 1, 1, 1, 1, 1,\n",
       "       1, 1, 1, 1, 1, 1, 1, 1, 1, 1, 1, 1, 1, 1, 1, 1, 1, 1, 1, 1, 1, 1,\n",
       "       1, 1, 1, 1, 1, 1, 1, 1, 1, 1, 1, 1, 1, 1, 1, 1, 1, 1, 1, 1, 1, 1,\n",
       "       1, 1, 1, 1, 1, 1])"
      ]
     },
     "execution_count": 14,
     "metadata": {},
     "output_type": "execute_result"
    }
   ],
   "source": [
    "#bounding_boxes = extrax"
   ]
  },
  {
   "cell_type": "code",
   "execution_count": 43,
   "metadata": {},
   "outputs": [
    {
     "name": "stdout",
     "output_type": "stream",
     "text": [
      "29/29 [==============================] - 94s 3s/step\n",
      "                precision    recall  f1-score   support\n",
      "\n",
      "     Vehiculos       0.83      0.23      0.36        44\n",
      "Construcciones       0.81      0.81      0.81       428\n",
      "          Vias       0.57      0.37      0.45       131\n",
      "          Rios       0.68      0.92      0.78       239\n",
      "       Mineria       0.58      0.50      0.54        56\n",
      "\n",
      "      accuracy                           0.73       898\n",
      "     macro avg       0.70      0.57      0.59       898\n",
      "  weighted avg       0.73      0.73      0.71       898\n",
      "\n",
      "Confusion Matrix:\n",
      "[[ 10  19   0   5  10]\n",
      " [  0 348  29  43   8]\n",
      " [  0  44  48  39   0]\n",
      " [  0  10   7 220   2]\n",
      " [  2   8   0  18  28]]\n"
     ]
    }
   ],
   "source": [
    "import numpy as np\n",
    "from sklearn.metrics import classification_report, confusion_matrix\n",
    "\n",
    "y_pred = np.argmax(resnet152_model.predict(X_val), axis=1)\n",
    "\n",
    "y_val_label = np.array(y_val_label, dtype=int)\n",
    "y_pred = np.array(y_pred, dtype=int)\n",
    "\n",
    "target_names = ['Vehiculos', 'Construcciones', 'Vias', 'Rios', 'Mineria']  # Get unique class labels\n",
    "print(classification_report(y_val_label, y_pred, target_names=target_names))\n",
    "\n",
    "conf_matrix = confusion_matrix(y_val_label, y_pred)\n",
    "print(\"Confusion Matrix:\")\n",
    "print(conf_matrix)"
   ]
  },
  {
   "cell_type": "markdown",
   "metadata": {},
   "source": [
    "## EfficientNet"
   ]
  },
  {
   "cell_type": "code",
   "execution_count": 47,
   "metadata": {},
   "outputs": [],
   "source": [
    "from efficientnet.tfkeras import EfficientNetB6"
   ]
  },
  {
   "cell_type": "code",
   "execution_count": 55,
   "metadata": {},
   "outputs": [
    {
     "name": "stdout",
     "output_type": "stream",
     "text": [
      "Epoch 1/10\n",
      "87/87 [==============================] - 500s 5s/step - loss: 0.7760 - accuracy: 0.6985 - val_loss: 0.5469 - val_accuracy: 0.7707\n",
      "Epoch 2/10\n",
      "87/87 [==============================] - 464s 5s/step - loss: 0.6127 - accuracy: 0.7579 - val_loss: 0.4963 - val_accuracy: 0.8021\n",
      "Epoch 3/10\n",
      "87/87 [==============================] - 458s 5s/step - loss: 0.5841 - accuracy: 0.7684 - val_loss: 0.4788 - val_accuracy: 0.7893\n",
      "Epoch 4/10\n",
      "87/87 [==============================] - 458s 5s/step - loss: 0.5671 - accuracy: 0.7759 - val_loss: 0.4654 - val_accuracy: 0.7986\n",
      "Epoch 5/10\n",
      "87/87 [==============================] - 460s 5s/step - loss: 0.5352 - accuracy: 0.7767 - val_loss: 0.4644 - val_accuracy: 0.8114\n",
      "Epoch 6/10\n",
      "87/87 [==============================] - 457s 5s/step - loss: 0.5342 - accuracy: 0.7857 - val_loss: 0.4719 - val_accuracy: 0.7998\n",
      "Epoch 7/10\n",
      "87/87 [==============================] - 463s 5s/step - loss: 0.5195 - accuracy: 0.7885 - val_loss: 0.4472 - val_accuracy: 0.8184\n",
      "Epoch 8/10\n",
      "87/87 [==============================] - 462s 5s/step - loss: 0.5022 - accuracy: 0.8001 - val_loss: 0.4466 - val_accuracy: 0.8114\n",
      "Epoch 9/10\n",
      "87/87 [==============================] - 467s 5s/step - loss: 0.5148 - accuracy: 0.7903 - val_loss: 0.4360 - val_accuracy: 0.8196\n",
      "Epoch 10/10\n",
      "87/87 [==============================] - 462s 5s/step - loss: 0.5021 - accuracy: 0.7957 - val_loss: 0.4297 - val_accuracy: 0.8102\n",
      "Model: \"sequential_22\"\n",
      "_________________________________________________________________\n",
      " Layer (type)                Output Shape              Param #   \n",
      "=================================================================\n",
      " efficientnet-b6 (Functiona  (None, 7, 7, 2304)        40960136  \n",
      " l)                                                              \n",
      "                                                                 \n",
      " sequential_21 (Sequential)  (None, 5)                 591365    \n",
      "                                                                 \n",
      "=================================================================\n",
      "Total params: 41551501 (158.51 MB)\n",
      "Trainable params: 591365 (2.26 MB)\n",
      "Non-trainable params: 40960136 (156.25 MB)\n",
      "_________________________________________________________________\n"
     ]
    }
   ],
   "source": [
    "def create_efficientnet_b6(input_shape, num_classes):\n",
    "    # Load pre-trained EfficientNet-B6 model without the top classification layer\n",
    "    base_model = EfficientNetB6(weights='imagenet', include_top=False, input_shape=input_shape)\n",
    "\n",
    "    for layer in base_model.layers:\n",
    "        layer.trainable = False\n",
    "\n",
    "    #  Custom classification head\n",
    "    top_layers = models.Sequential([\n",
    "        layers.GlobalAveragePooling2D(),\n",
    "        layers.Dense(256, activation='relu'),\n",
    "        layers.Dropout(0.5),\n",
    "        layers.Dense(num_classes, activation='softmax')\n",
    "    ])\n",
    "\n",
    "    # Here we combine the base model with our custom classification head\n",
    "    model = models.Sequential([\n",
    "        base_model,\n",
    "        top_layers\n",
    "    ])\n",
    "\n",
    "    return model\n",
    "\n",
    "input_shape = (224, 224, 3)  # Input shape for EfficientNet-B6\n",
    "num_classes = train_annotations['label'].nunique() \n",
    "\n",
    "# Create the EfficientNet-B6 model\n",
    "efficientnet_b6_model = create_efficientnet_b6(input_shape, num_classes)\n",
    "\n",
    "# Compile the model - sparse_cc instead of cc is needed otherwise I get ValueError: Shapes (None, 1) and (None, 5) are incompatible\n",
    "efficientnet_b6_model.compile(optimizer='adam', loss='sparse_categorical_crossentropy', metrics=['accuracy'])\n",
    "\n",
    "efficientnet_b6_model.fit(X_train, y_train_label, validation_data=(X_test, y_test_label), epochs=10, batch_size=32)\n",
    "\n",
    "\n",
    "efficientnet_b6_model.summary()"
   ]
  },
  {
   "cell_type": "code",
   "execution_count": 58,
   "metadata": {},
   "outputs": [
    {
     "name": "stdout",
     "output_type": "stream",
     "text": [
      "14/14 [==============================] - 61s 4s/step\n",
      "                precision    recall  f1-score   support\n",
      "\n",
      "     Vehiculos       0.40      0.67      0.50         3\n",
      "Construcciones       0.82      0.98      0.89       254\n",
      "          Vias       0.84      0.50      0.63        98\n",
      "          Rios       0.93      0.90      0.92        60\n",
      "       Mineria       0.50      0.11      0.18         9\n",
      "\n",
      "      accuracy                           0.83       424\n",
      "     macro avg       0.70      0.63      0.62       424\n",
      "  weighted avg       0.83      0.83      0.82       424\n",
      "\n",
      "Confusion Matrix:\n",
      "[[  2   1   0   0   0]\n",
      " [  2 248   3   0   1]\n",
      " [  0  45  49   4   0]\n",
      " [  0   1   5  54   0]\n",
      " [  1   6   1   0   1]]\n"
     ]
    }
   ],
   "source": [
    "import numpy as np\n",
    "from sklearn.metrics import classification_report, confusion_matrix\n",
    "\n",
    "y_pred = np.argmax(efficientnet_b6_model.predict(X_val), axis=1)\n",
    "\n",
    "y_val_label = np.array(y_val_label, dtype=int)\n",
    "y_pred = np.array(y_pred, dtype=int)\n",
    "\n",
    "target_names = ['Vehiculos', 'Construcciones', 'Vias', 'Rios', 'Mineria']  # Get unique class labels\n",
    "print(classification_report(y_val_label, y_pred, target_names=target_names))\n",
    "\n",
    "conf_matrix = confusion_matrix(y_val_label, y_pred)\n",
    "print(\"Confusion Matrix:\")\n",
    "print(conf_matrix)"
   ]
  },
  {
   "cell_type": "code",
   "execution_count": 80,
   "metadata": {},
   "outputs": [],
   "source": [
    "efficientnet_b6_model.save(\"saved_models/efficientnet_b6_model.h5\")"
   ]
  },
  {
   "cell_type": "code",
   "execution_count": 9,
   "metadata": {},
   "outputs": [
    {
     "ename": "ValueError",
     "evalue": "Unknown layer: 'FixedDropout'. Please ensure you are using a `keras.utils.custom_object_scope` and that this object is included in the scope. See https://www.tensorflow.org/guide/keras/save_and_serialize#registering_the_custom_object for details.",
     "output_type": "error",
     "traceback": [
      "\u001b[1;31m---------------------------------------------------------------------------\u001b[0m",
      "\u001b[1;31mValueError\u001b[0m                                Traceback (most recent call last)",
      "\u001b[1;32m<ipython-input-9-73952d5dc731>\u001b[0m in \u001b[0;36m<module>\u001b[1;34m\u001b[0m\n\u001b[1;32m----> 1\u001b[1;33m \u001b[0mefficientnet_b6_model\u001b[0m \u001b[1;33m=\u001b[0m \u001b[0mload_model\u001b[0m\u001b[1;33m(\u001b[0m\u001b[1;34m\"saved_models/efficientnet_b6_model.h5\"\u001b[0m\u001b[1;33m)\u001b[0m\u001b[1;33m\u001b[0m\u001b[1;33m\u001b[0m\u001b[0m\n\u001b[0m",
      "\u001b[1;32mc:\\Users\\juank\\AppData\\Local\\Programs\\Python\\Python38\\lib\\site-packages\\keras\\src\\saving\\saving_api.py\u001b[0m in \u001b[0;36mload_model\u001b[1;34m(filepath, custom_objects, compile, safe_mode, **kwargs)\u001b[0m\n\u001b[0;32m    236\u001b[0m \u001b[1;33m\u001b[0m\u001b[0m\n\u001b[0;32m    237\u001b[0m     \u001b[1;31m# Legacy case.\u001b[0m\u001b[1;33m\u001b[0m\u001b[1;33m\u001b[0m\u001b[1;33m\u001b[0m\u001b[0m\n\u001b[1;32m--> 238\u001b[1;33m     return legacy_sm_saving_lib.load_model(\n\u001b[0m\u001b[0;32m    239\u001b[0m         \u001b[0mfilepath\u001b[0m\u001b[1;33m,\u001b[0m \u001b[0mcustom_objects\u001b[0m\u001b[1;33m=\u001b[0m\u001b[0mcustom_objects\u001b[0m\u001b[1;33m,\u001b[0m \u001b[0mcompile\u001b[0m\u001b[1;33m=\u001b[0m\u001b[0mcompile\u001b[0m\u001b[1;33m,\u001b[0m \u001b[1;33m**\u001b[0m\u001b[0mkwargs\u001b[0m\u001b[1;33m\u001b[0m\u001b[1;33m\u001b[0m\u001b[0m\n\u001b[0;32m    240\u001b[0m     )\n",
      "\u001b[1;32mc:\\Users\\juank\\AppData\\Local\\Programs\\Python\\Python38\\lib\\site-packages\\keras\\src\\utils\\traceback_utils.py\u001b[0m in \u001b[0;36merror_handler\u001b[1;34m(*args, **kwargs)\u001b[0m\n\u001b[0;32m     68\u001b[0m             \u001b[1;31m# To get the full stack trace, call:\u001b[0m\u001b[1;33m\u001b[0m\u001b[1;33m\u001b[0m\u001b[1;33m\u001b[0m\u001b[0m\n\u001b[0;32m     69\u001b[0m             \u001b[1;31m# `tf.debugging.disable_traceback_filtering()`\u001b[0m\u001b[1;33m\u001b[0m\u001b[1;33m\u001b[0m\u001b[1;33m\u001b[0m\u001b[0m\n\u001b[1;32m---> 70\u001b[1;33m             \u001b[1;32mraise\u001b[0m \u001b[0me\u001b[0m\u001b[1;33m.\u001b[0m\u001b[0mwith_traceback\u001b[0m\u001b[1;33m(\u001b[0m\u001b[0mfiltered_tb\u001b[0m\u001b[1;33m)\u001b[0m \u001b[1;32mfrom\u001b[0m \u001b[1;32mNone\u001b[0m\u001b[1;33m\u001b[0m\u001b[1;33m\u001b[0m\u001b[0m\n\u001b[0m\u001b[0;32m     71\u001b[0m         \u001b[1;32mfinally\u001b[0m\u001b[1;33m:\u001b[0m\u001b[1;33m\u001b[0m\u001b[1;33m\u001b[0m\u001b[0m\n\u001b[0;32m     72\u001b[0m             \u001b[1;32mdel\u001b[0m \u001b[0mfiltered_tb\u001b[0m\u001b[1;33m\u001b[0m\u001b[1;33m\u001b[0m\u001b[0m\n",
      "\u001b[1;32mc:\\Users\\juank\\AppData\\Local\\Programs\\Python\\Python38\\lib\\site-packages\\keras\\src\\saving\\legacy\\serialization.py\u001b[0m in \u001b[0;36mclass_and_config_for_serialized_keras_object\u001b[1;34m(config, module_objects, custom_objects, printable_module_name)\u001b[0m\n\u001b[0;32m    363\u001b[0m     )\n\u001b[0;32m    364\u001b[0m     \u001b[1;32mif\u001b[0m \u001b[0mcls\u001b[0m \u001b[1;32mis\u001b[0m \u001b[1;32mNone\u001b[0m\u001b[1;33m:\u001b[0m\u001b[1;33m\u001b[0m\u001b[1;33m\u001b[0m\u001b[0m\n\u001b[1;32m--> 365\u001b[1;33m         raise ValueError(\n\u001b[0m\u001b[0;32m    366\u001b[0m             \u001b[1;34mf\"Unknown {printable_module_name}: '{class_name}'. \"\u001b[0m\u001b[1;33m\u001b[0m\u001b[1;33m\u001b[0m\u001b[0m\n\u001b[0;32m    367\u001b[0m             \u001b[1;34m\"Please ensure you are using a `keras.utils.custom_object_scope` \"\u001b[0m\u001b[1;33m\u001b[0m\u001b[1;33m\u001b[0m\u001b[0m\n",
      "\u001b[1;31mValueError\u001b[0m: Unknown layer: 'FixedDropout'. Please ensure you are using a `keras.utils.custom_object_scope` and that this object is included in the scope. See https://www.tensorflow.org/guide/keras/save_and_serialize#registering_the_custom_object for details."
     ]
    }
   ],
   "source": [
    "efficientnet_b6_model = load_model(\"saved_models/efficientnet_b6_model.h5\")"
   ]
  },
  {
   "cell_type": "markdown",
   "metadata": {},
   "source": [
    "## DenseNet"
   ]
  },
  {
   "cell_type": "code",
   "execution_count": 56,
   "metadata": {},
   "outputs": [],
   "source": [
    "from tensorflow.keras import layers, models"
   ]
  },
  {
   "cell_type": "code",
   "execution_count": 57,
   "metadata": {},
   "outputs": [
    {
     "name": "stdout",
     "output_type": "stream",
     "text": [
      "Epoch 1/10\n",
      "87/87 [==============================] - 343s 4s/step - loss: 0.7905 - accuracy: 0.7061 - val_loss: 0.5361 - val_accuracy: 0.8033\n",
      "Epoch 2/10\n",
      "87/87 [==============================] - 326s 4s/step - loss: 0.5888 - accuracy: 0.7677 - val_loss: 0.5133 - val_accuracy: 0.7905\n",
      "Epoch 3/10\n",
      "87/87 [==============================] - 330s 4s/step - loss: 0.5415 - accuracy: 0.7770 - val_loss: 0.4785 - val_accuracy: 0.8079\n",
      "Epoch 4/10\n",
      "87/87 [==============================] - 331s 4s/step - loss: 0.5105 - accuracy: 0.7947 - val_loss: 0.4587 - val_accuracy: 0.8079\n",
      "Epoch 5/10\n",
      "87/87 [==============================] - 332s 4s/step - loss: 0.4974 - accuracy: 0.7929 - val_loss: 0.4375 - val_accuracy: 0.8219\n",
      "Epoch 6/10\n",
      "87/87 [==============================] - 332s 4s/step - loss: 0.4942 - accuracy: 0.8012 - val_loss: 0.4583 - val_accuracy: 0.8102\n",
      "Epoch 7/10\n",
      "87/87 [==============================] - 327s 4s/step - loss: 0.4748 - accuracy: 0.8069 - val_loss: 0.4257 - val_accuracy: 0.8219\n",
      "Epoch 8/10\n",
      "87/87 [==============================] - 329s 4s/step - loss: 0.4664 - accuracy: 0.8134 - val_loss: 0.4331 - val_accuracy: 0.8149\n",
      "Epoch 9/10\n",
      "87/87 [==============================] - 330s 4s/step - loss: 0.4656 - accuracy: 0.8044 - val_loss: 0.4312 - val_accuracy: 0.8196\n",
      "Epoch 10/10\n",
      "87/87 [==============================] - 331s 4s/step - loss: 0.4440 - accuracy: 0.8066 - val_loss: 0.4369 - val_accuracy: 0.8196\n",
      "Model: \"sequential_24\"\n",
      "_________________________________________________________________\n",
      " Layer (type)                Output Shape              Param #   \n",
      "=================================================================\n",
      " densenet201 (Functional)    (None, 7, 7, 1920)        18321984  \n",
      "                                                                 \n",
      " sequential_23 (Sequential)  (None, 5)                 986117    \n",
      "                                                                 \n",
      "=================================================================\n",
      "Total params: 19308101 (73.65 MB)\n",
      "Trainable params: 986117 (3.76 MB)\n",
      "Non-trainable params: 18321984 (69.89 MB)\n",
      "_________________________________________________________________\n"
     ]
    }
   ],
   "source": [
    "def create_densenet_264(input_shape, num_classes):\n",
    "    base_model = tf.keras.applications.DenseNet201(input_shape=input_shape, include_top=False, weights='imagenet')\n",
    "\n",
    "    for layer in base_model.layers:\n",
    "        layer.trainable = False\n",
    "\n",
    "    # Add custom classification head\n",
    "    top_layers = models.Sequential([\n",
    "        layers.GlobalAveragePooling2D(),\n",
    "        layers.Dense(512, activation='relu'),\n",
    "        layers.Dropout(0.5),\n",
    "        layers.Dense(num_classes, activation='softmax')\n",
    "    ])\n",
    "\n",
    "    model = models.Sequential([\n",
    "        base_model,\n",
    "        top_layers\n",
    "    ])\n",
    "\n",
    "    return model\n",
    "\n",
    "input_shape = (224, 224, 3) \n",
    "num_classes = train_annotations['label'].nunique()\n",
    "\n",
    "# Create the DenseNet-264 model\n",
    "densenet_264_model = create_densenet_264(input_shape, num_classes)\n",
    "\n",
    "# Compile the model\n",
    "densenet_264_model.compile(optimizer='adam', loss='sparse_categorical_crossentropy', metrics=['accuracy'])\n",
    "\n",
    "densenet_264_model.fit(X_train, y_train_label, validation_data=(X_test, y_test_label), epochs=10, batch_size=32)\n",
    "\n",
    "densenet_264_model.summary()"
   ]
  },
  {
   "cell_type": "code",
   "execution_count": 59,
   "metadata": {},
   "outputs": [
    {
     "name": "stdout",
     "output_type": "stream",
     "text": [
      "14/14 [==============================] - 44s 3s/step\n",
      "                precision    recall  f1-score   support\n",
      "\n",
      "     Vehiculos       0.00      0.00      0.00         3\n",
      "Construcciones       0.80      0.98      0.88       254\n",
      "          Vias       0.89      0.41      0.56        98\n",
      "          Rios       0.93      0.90      0.92        60\n",
      "       Mineria       0.55      0.67      0.60         9\n",
      "\n",
      "      accuracy                           0.82       424\n",
      "     macro avg       0.63      0.59      0.59       424\n",
      "  weighted avg       0.83      0.82      0.80       424\n",
      "\n",
      "Confusion Matrix:\n",
      "[[  0   3   0   0   0]\n",
      " [  0 249   0   0   5]\n",
      " [  0  54  40   4   0]\n",
      " [  0   1   5  54   0]\n",
      " [  0   3   0   0   6]]\n"
     ]
    },
    {
     "name": "stderr",
     "output_type": "stream",
     "text": [
      "c:\\Users\\juank\\AppData\\Local\\Programs\\Python\\Python38\\lib\\site-packages\\sklearn\\metrics\\_classification.py:1248: UndefinedMetricWarning: Precision and F-score are ill-defined and being set to 0.0 in labels with no predicted samples. Use `zero_division` parameter to control this behavior.\n",
      "  _warn_prf(average, modifier, msg_start, len(result))\n",
      "c:\\Users\\juank\\AppData\\Local\\Programs\\Python\\Python38\\lib\\site-packages\\sklearn\\metrics\\_classification.py:1248: UndefinedMetricWarning: Precision and F-score are ill-defined and being set to 0.0 in labels with no predicted samples. Use `zero_division` parameter to control this behavior.\n",
      "  _warn_prf(average, modifier, msg_start, len(result))\n",
      "c:\\Users\\juank\\AppData\\Local\\Programs\\Python\\Python38\\lib\\site-packages\\sklearn\\metrics\\_classification.py:1248: UndefinedMetricWarning: Precision and F-score are ill-defined and being set to 0.0 in labels with no predicted samples. Use `zero_division` parameter to control this behavior.\n",
      "  _warn_prf(average, modifier, msg_start, len(result))\n"
     ]
    }
   ],
   "source": [
    "import numpy as np\n",
    "from sklearn.metrics import classification_report, confusion_matrix\n",
    "\n",
    "y_pred = np.argmax(densenet_264_model.predict(X_val), axis=1)\n",
    "\n",
    "y_val_label = np.array(y_val_label, dtype=int)\n",
    "y_pred = np.array(y_pred, dtype=int)\n",
    "\n",
    "target_names = ['Vehiculos', 'Construcciones', 'Vias', 'Rios', 'Mineria']  # Get unique class labels\n",
    "print(classification_report(y_val_label, y_pred, target_names=target_names))\n",
    "\n",
    "conf_matrix = confusion_matrix(y_val_label, y_pred)\n",
    "print(\"Confusion Matrix:\")\n",
    "print(conf_matrix)"
   ]
  },
  {
   "cell_type": "code",
   "execution_count": 81,
   "metadata": {},
   "outputs": [],
   "source": [
    "densenet_264_model.save(\"saved_models/densenet_264_model.h5\")"
   ]
  },
  {
   "cell_type": "code",
   "execution_count": 64,
   "metadata": {},
   "outputs": [],
   "source": [
    "import matplotlib.pyplot as plt\n",
    "from sklearn.metrics import precision_score, recall_score"
   ]
  },
  {
   "cell_type": "code",
   "execution_count": null,
   "metadata": {},
   "outputs": [],
   "source": [
    "y_pred_reshaped = y_pred.reshape(-1, 1) \n",
    "conf_scores = np.max(y_pred_reshaped, axis=1)  \n",
    "\n",
    "sorted_indices = np.argsort(conf_scores)[::-1]\n",
    "sorted_conf_scores = conf_scores[sorted_indices]\n",
    "\n",
    "precisions = []\n",
    "recalls = []\n",
    "\n",
    "for class_label in range(5):\n",
    "    class_precisions = []\n",
    "    class_recalls = []\n",
    "    for threshold in sorted_conf_scores:\n",
    "        threshold_mask = conf_scores >= threshold\n",
    "        y_pred_threshold = y_pred_reshaped[threshold_mask]\n",
    "        y_true_threshold = y_val_label[threshold_mask]\n",
    "        precision = precision_score(y_true_threshold == class_label, y_pred_threshold == class_label)\n",
    "        recall = recall_score(y_true_threshold == class_label, y_pred_threshold == class_label)\n",
    "        class_precisions.append(precision)\n",
    "        class_recalls.append(recall)\n",
    "    \n",
    "    precisions.append(class_precisions)\n",
    "    recalls.append(class_recalls)\n",
    "\n",
    "plt.figure(figsize=(10, 6))\n",
    "for class_label in range(5):\n",
    "    plt.plot(recalls[class_label], precisions[class_label], label=f'Class {class_label}')\n",
    "\n",
    "plt.xlabel('Recall')\n",
    "plt.ylabel('Precision')\n",
    "plt.title('Precision-Recall Curve for Each Class')\n",
    "plt.legend()\n",
    "plt.grid(True)\n",
    "plt.show()"
   ]
  },
  {
   "cell_type": "code",
   "execution_count": 5,
   "metadata": {},
   "outputs": [
    {
     "data": {
      "image/png": "[encoded data removed]",
      "text/plain": [
       "<Figure size 432x288 with 1 Axes>"
      ]
     },
     "metadata": {
      "needs_background": "light"
     },
     "output_type": "display_data"
    }
   ],
   "source": [
    "sample_data = train_annotations.iloc[0]\n",
    "image = cv2.imread(sample_data['img_path'])\n",
    "image = cv2.cvtColor(image, cv2.COLOR_BGR2RGB)\n",
    "\n",
    "# Coordenadas desnormalizadas para visualización\n",
    "x_min = int(sample_data['xmin'] * sample_data['width'])\n",
    "x_max = int(sample_data['xmax'] * sample_data['width'])\n",
    "y_min = int(sample_data['ymin'] * sample_data['height'])\n",
    "y_max = int(sample_data['ymax'] * sample_data['height'])\n",
    "\n",
    "cv2.rectangle(image, (x_min, y_min), (x_max, y_max), (255, 0, 0), 2)\n",
    "\n",
    "plt.imshow(image)\n",
    "plt.show()"
   ]
  },
  {
   "cell_type": "code",
   "execution_count": 17,
   "metadata": {},
   "outputs": [
    {
     "name": "stdout",
     "output_type": "stream",
     "text": [
      "Epoch 1/10\n"
     ]
    },
    {
     "ename": "InvalidArgumentError",
     "evalue": "Graph execution error:\n\nDetected at node 'sparse_categorical_crossentropy/SparseSoftmaxCrossEntropyWithLogits/SparseSoftmaxCrossEntropyWithLogits' defined at (most recent call last):\n    File \"c:\\Users\\juank\\AppData\\Local\\Programs\\Python\\Python38\\lib\\runpy.py\", line 193, in _run_module_as_main\n      return _run_code(code, main_globals, None,\n    File \"c:\\Users\\juank\\AppData\\Local\\Programs\\Python\\Python38\\lib\\runpy.py\", line 86, in _run_code\n      exec(code, run_globals)\n    File \"C:\\Users\\juank\\AppData\\Roaming\\Python\\Python38\\site-packages\\ipykernel_launcher.py\", line 16, in <module>\n      app.launch_new_instance()\n    File \"C:\\Users\\juank\\AppData\\Roaming\\Python\\Python38\\site-packages\\traitlets\\config\\application.py\", line 1053, in launch_instance\n      app.start()\n    File \"C:\\Users\\juank\\AppData\\Roaming\\Python\\Python38\\site-packages\\ipykernel\\kernelapp.py\", line 612, in start\n      self.io_loop.start()\n    File \"C:\\Users\\juank\\AppData\\Roaming\\Python\\Python38\\site-packages\\tornado\\platform\\asyncio.py\", line 195, in start\n      self.asyncio_loop.run_forever()\n    File \"c:\\Users\\juank\\AppData\\Local\\Programs\\Python\\Python38\\lib\\asyncio\\base_events.py\", line 567, in run_forever\n      self._run_once()\n    File \"c:\\Users\\juank\\AppData\\Local\\Programs\\Python\\Python38\\lib\\asyncio\\base_events.py\", line 1855, in _run_once\n      handle._run()\n    File \"c:\\Users\\juank\\AppData\\Local\\Programs\\Python\\Python38\\lib\\asyncio\\events.py\", line 81, in _run\n      self._context.run(self._callback, *self._args)\n    File \"C:\\Users\\juank\\AppData\\Roaming\\Python\\Python38\\site-packages\\tornado\\ioloop.py\", line 685, in <lambda>\n      lambda f: self._run_callback(functools.partial(callback, future))\n    File \"C:\\Users\\juank\\AppData\\Roaming\\Python\\Python38\\site-packages\\tornado\\ioloop.py\", line 738, in _run_callback\n      ret = callback()\n    File \"C:\\Users\\juank\\AppData\\Roaming\\Python\\Python38\\site-packages\\tornado\\gen.py\", line 825, in inner\n      self.ctx_run(self.run)\n    File \"C:\\Users\\juank\\AppData\\Roaming\\Python\\Python38\\site-packages\\tornado\\gen.py\", line 786, in run\n      yielded = self.gen.send(value)\n    File \"C:\\Users\\juank\\AppData\\Roaming\\Python\\Python38\\site-packages\\ipykernel\\kernelbase.py\", line 365, in process_one\n      yield gen.maybe_future(dispatch(*args))\n    File \"C:\\Users\\juank\\AppData\\Roaming\\Python\\Python38\\site-packages\\tornado\\gen.py\", line 234, in wrapper\n      yielded = ctx_run(next, result)\n    File \"C:\\Users\\juank\\AppData\\Roaming\\Python\\Python38\\site-packages\\ipykernel\\kernelbase.py\", line 268, in dispatch_shell\n      yield gen.maybe_future(handler(stream, idents, msg))\n    File \"C:\\Users\\juank\\AppData\\Roaming\\Python\\Python38\\site-packages\\tornado\\gen.py\", line 234, in wrapper\n      yielded = ctx_run(next, result)\n    File \"C:\\Users\\juank\\AppData\\Roaming\\Python\\Python38\\site-packages\\ipykernel\\kernelbase.py\", line 543, in execute_request\n      self.do_execute(\n    File \"C:\\Users\\juank\\AppData\\Roaming\\Python\\Python38\\site-packages\\tornado\\gen.py\", line 234, in wrapper\n      yielded = ctx_run(next, result)\n    File \"C:\\Users\\juank\\AppData\\Roaming\\Python\\Python38\\site-packages\\ipykernel\\ipkernel.py\", line 306, in do_execute\n      res = shell.run_cell(code, store_history=store_history, silent=silent)\n    File \"C:\\Users\\juank\\AppData\\Roaming\\Python\\Python38\\site-packages\\ipykernel\\zmqshell.py\", line 536, in run_cell\n      return super(ZMQInteractiveShell, self).run_cell(*args, **kwargs)\n    File \"C:\\Users\\juank\\AppData\\Roaming\\Python\\Python38\\site-packages\\IPython\\core\\interactiveshell.py\", line 2877, in run_cell\n      result = self._run_cell(\n    File \"C:\\Users\\juank\\AppData\\Roaming\\Python\\Python38\\site-packages\\IPython\\core\\interactiveshell.py\", line 2923, in _run_cell\n      return runner(coro)\n    File \"C:\\Users\\juank\\AppData\\Roaming\\Python\\Python38\\site-packages\\IPython\\core\\async_helpers.py\", line 68, in _pseudo_sync_runner\n      coro.send(None)\n    File \"C:\\Users\\juank\\AppData\\Roaming\\Python\\Python38\\site-packages\\IPython\\core\\interactiveshell.py\", line 3146, in run_cell_async\n      has_raised = await self.run_ast_nodes(code_ast.body, cell_name,\n    File \"C:\\Users\\juank\\AppData\\Roaming\\Python\\Python38\\site-packages\\IPython\\core\\interactiveshell.py\", line 3338, in run_ast_nodes\n      if (await self.run_code(code, result,  async_=asy)):\n    File \"C:\\Users\\juank\\AppData\\Roaming\\Python\\Python38\\site-packages\\IPython\\core\\interactiveshell.py\", line 3418, in run_code\n      exec(code_obj, self.user_global_ns, self.user_ns)\n    File \"<ipython-input-17-556e252d903a>\", line 33, in <module>\n      ssd_model.fit(X_train, y_train_label, validation_data=(X_test, y_test_label), epochs=10, batch_size=32)\n    File \"c:\\Users\\juank\\AppData\\Local\\Programs\\Python\\Python38\\lib\\site-packages\\keras\\src\\utils\\traceback_utils.py\", line 65, in error_handler\n      return fn(*args, **kwargs)\n    File \"c:\\Users\\juank\\AppData\\Local\\Programs\\Python\\Python38\\lib\\site-packages\\keras\\src\\engine\\training.py\", line 1742, in fit\n      tmp_logs = self.train_function(iterator)\n    File \"c:\\Users\\juank\\AppData\\Local\\Programs\\Python\\Python38\\lib\\site-packages\\keras\\src\\engine\\training.py\", line 1338, in train_function\n      return step_function(self, iterator)\n    File \"c:\\Users\\juank\\AppData\\Local\\Programs\\Python\\Python38\\lib\\site-packages\\keras\\src\\engine\\training.py\", line 1322, in step_function\n      outputs = model.distribute_strategy.run(run_step, args=(data,))\n    File \"c:\\Users\\juank\\AppData\\Local\\Programs\\Python\\Python38\\lib\\site-packages\\keras\\src\\engine\\training.py\", line 1303, in run_step\n      outputs = model.train_step(data)\n    File \"c:\\Users\\juank\\AppData\\Local\\Programs\\Python\\Python38\\lib\\site-packages\\keras\\src\\engine\\training.py\", line 1081, in train_step\n      loss = self.compute_loss(x, y, y_pred, sample_weight)\n    File \"c:\\Users\\juank\\AppData\\Local\\Programs\\Python\\Python38\\lib\\site-packages\\keras\\src\\engine\\training.py\", line 1139, in compute_loss\n      return self.compiled_loss(\n    File \"c:\\Users\\juank\\AppData\\Local\\Programs\\Python\\Python38\\lib\\site-packages\\keras\\src\\engine\\compile_utils.py\", line 265, in __call__\n      loss_value = loss_obj(y_t, y_p, sample_weight=sw)\n    File \"c:\\Users\\juank\\AppData\\Local\\Programs\\Python\\Python38\\lib\\site-packages\\keras\\src\\losses.py\", line 142, in __call__\n      losses = call_fn(y_true, y_pred)\n    File \"c:\\Users\\juank\\AppData\\Local\\Programs\\Python\\Python38\\lib\\site-packages\\keras\\src\\losses.py\", line 268, in call\n      return ag_fn(y_true, y_pred, **self._fn_kwargs)\n    File \"c:\\Users\\juank\\AppData\\Local\\Programs\\Python\\Python38\\lib\\site-packages\\keras\\src\\losses.py\", line 2354, in sparse_categorical_crossentropy\n      return backend.sparse_categorical_crossentropy(\n    File \"c:\\Users\\juank\\AppData\\Local\\Programs\\Python\\Python38\\lib\\site-packages\\keras\\src\\backend.py\", line 5762, in sparse_categorical_crossentropy\n      res = tf.nn.sparse_softmax_cross_entropy_with_logits(\nNode: 'sparse_categorical_crossentropy/SparseSoftmaxCrossEntropyWithLogits/SparseSoftmaxCrossEntropyWithLogits'\nlogits and labels must have the same first dimension, got logits shape [128,20] and labels shape [32]\n\t [[{{node sparse_categorical_crossentropy/SparseSoftmaxCrossEntropyWithLogits/SparseSoftmaxCrossEntropyWithLogits}}]] [Op:__inference_train_function_64909]",
     "output_type": "error",
     "traceback": [
      "\u001b[1;31m---------------------------------------------------------------------------\u001b[0m",
      "\u001b[1;31mInvalidArgumentError\u001b[0m                      Traceback (most recent call last)",
      "\u001b[1;32m<ipython-input-17-556e252d903a>\u001b[0m in \u001b[0;36m<module>\u001b[1;34m\u001b[0m\n\u001b[0;32m     31\u001b[0m \u001b[0my_test_label\u001b[0m \u001b[1;33m=\u001b[0m \u001b[0mnp\u001b[0m\u001b[1;33m.\u001b[0m\u001b[0mexpand_dims\u001b[0m\u001b[1;33m(\u001b[0m\u001b[0my_test_label\u001b[0m\u001b[1;33m,\u001b[0m \u001b[0maxis\u001b[0m\u001b[1;33m=\u001b[0m\u001b[1;36m1\u001b[0m\u001b[1;33m)\u001b[0m\u001b[1;33m\u001b[0m\u001b[1;33m\u001b[0m\u001b[0m\n\u001b[0;32m     32\u001b[0m \u001b[1;33m\u001b[0m\u001b[0m\n\u001b[1;32m---> 33\u001b[1;33m \u001b[0mssd_model\u001b[0m\u001b[1;33m.\u001b[0m\u001b[0mfit\u001b[0m\u001b[1;33m(\u001b[0m\u001b[0mX_train\u001b[0m\u001b[1;33m,\u001b[0m \u001b[0my_train_label\u001b[0m\u001b[1;33m,\u001b[0m \u001b[0mvalidation_data\u001b[0m\u001b[1;33m=\u001b[0m\u001b[1;33m(\u001b[0m\u001b[0mX_test\u001b[0m\u001b[1;33m,\u001b[0m \u001b[0my_test_label\u001b[0m\u001b[1;33m)\u001b[0m\u001b[1;33m,\u001b[0m \u001b[0mepochs\u001b[0m\u001b[1;33m=\u001b[0m\u001b[1;36m10\u001b[0m\u001b[1;33m,\u001b[0m \u001b[0mbatch_size\u001b[0m\u001b[1;33m=\u001b[0m\u001b[1;36m32\u001b[0m\u001b[1;33m)\u001b[0m\u001b[1;33m\u001b[0m\u001b[1;33m\u001b[0m\u001b[0m\n\u001b[0m\u001b[0;32m     34\u001b[0m \u001b[1;33m\u001b[0m\u001b[0m\n\u001b[0;32m     35\u001b[0m \u001b[0mssd_model\u001b[0m\u001b[1;33m.\u001b[0m\u001b[0msummary\u001b[0m\u001b[1;33m(\u001b[0m\u001b[1;33m)\u001b[0m\u001b[1;33m\u001b[0m\u001b[1;33m\u001b[0m\u001b[0m\n",
      "\u001b[1;32mc:\\Users\\juank\\AppData\\Local\\Programs\\Python\\Python38\\lib\\site-packages\\keras\\src\\utils\\traceback_utils.py\u001b[0m in \u001b[0;36merror_handler\u001b[1;34m(*args, **kwargs)\u001b[0m\n\u001b[0;32m     68\u001b[0m             \u001b[1;31m# To get the full stack trace, call:\u001b[0m\u001b[1;33m\u001b[0m\u001b[1;33m\u001b[0m\u001b[1;33m\u001b[0m\u001b[0m\n\u001b[0;32m     69\u001b[0m             \u001b[1;31m# `tf.debugging.disable_traceback_filtering()`\u001b[0m\u001b[1;33m\u001b[0m\u001b[1;33m\u001b[0m\u001b[1;33m\u001b[0m\u001b[0m\n\u001b[1;32m---> 70\u001b[1;33m             \u001b[1;32mraise\u001b[0m \u001b[0me\u001b[0m\u001b[1;33m.\u001b[0m\u001b[0mwith_traceback\u001b[0m\u001b[1;33m(\u001b[0m\u001b[0mfiltered_tb\u001b[0m\u001b[1;33m)\u001b[0m \u001b[1;32mfrom\u001b[0m \u001b[1;32mNone\u001b[0m\u001b[1;33m\u001b[0m\u001b[1;33m\u001b[0m\u001b[0m\n\u001b[0m\u001b[0;32m     71\u001b[0m         \u001b[1;32mfinally\u001b[0m\u001b[1;33m:\u001b[0m\u001b[1;33m\u001b[0m\u001b[1;33m\u001b[0m\u001b[0m\n\u001b[0;32m     72\u001b[0m             \u001b[1;32mdel\u001b[0m \u001b[0mfiltered_tb\u001b[0m\u001b[1;33m\u001b[0m\u001b[1;33m\u001b[0m\u001b[0m\n",
      "\u001b[1;32mc:\\Users\\juank\\AppData\\Local\\Programs\\Python\\Python38\\lib\\site-packages\\tensorflow\\python\\eager\\execute.py\u001b[0m in \u001b[0;36mquick_execute\u001b[1;34m(op_name, num_outputs, inputs, attrs, ctx, name)\u001b[0m\n\u001b[0;32m     51\u001b[0m   \u001b[1;32mtry\u001b[0m\u001b[1;33m:\u001b[0m\u001b[1;33m\u001b[0m\u001b[1;33m\u001b[0m\u001b[0m\n\u001b[0;32m     52\u001b[0m     \u001b[0mctx\u001b[0m\u001b[1;33m.\u001b[0m\u001b[0mensure_initialized\u001b[0m\u001b[1;33m(\u001b[0m\u001b[1;33m)\u001b[0m\u001b[1;33m\u001b[0m\u001b[1;33m\u001b[0m\u001b[0m\n\u001b[1;32m---> 53\u001b[1;33m     tensors = pywrap_tfe.TFE_Py_Execute(ctx._handle, device_name, op_name,\n\u001b[0m\u001b[0;32m     54\u001b[0m                                         inputs, attrs, num_outputs)\n\u001b[0;32m     55\u001b[0m   \u001b[1;32mexcept\u001b[0m \u001b[0mcore\u001b[0m\u001b[1;33m.\u001b[0m\u001b[0m_NotOkStatusException\u001b[0m \u001b[1;32mas\u001b[0m \u001b[0me\u001b[0m\u001b[1;33m:\u001b[0m\u001b[1;33m\u001b[0m\u001b[1;33m\u001b[0m\u001b[0m\n",
      "\u001b[1;31mInvalidArgumentError\u001b[0m: Graph execution error:\n\nDetected at node 'sparse_categorical_crossentropy/SparseSoftmaxCrossEntropyWithLogits/SparseSoftmaxCrossEntropyWithLogits' defined at (most recent call last):\n    File \"c:\\Users\\juank\\AppData\\Local\\Programs\\Python\\Python38\\lib\\runpy.py\", line 193, in _run_module_as_main\n      return _run_code(code, main_globals, None,\n    File \"c:\\Users\\juank\\AppData\\Local\\Programs\\Python\\Python38\\lib\\runpy.py\", line 86, in _run_code\n      exec(code, run_globals)\n    File \"C:\\Users\\juank\\AppData\\Roaming\\Python\\Python38\\site-packages\\ipykernel_launcher.py\", line 16, in <module>\n      app.launch_new_instance()\n    File \"C:\\Users\\juank\\AppData\\Roaming\\Python\\Python38\\site-packages\\traitlets\\config\\application.py\", line 1053, in launch_instance\n      app.start()\n    File \"C:\\Users\\juank\\AppData\\Roaming\\Python\\Python38\\site-packages\\ipykernel\\kernelapp.py\", line 612, in start\n      self.io_loop.start()\n    File \"C:\\Users\\juank\\AppData\\Roaming\\Python\\Python38\\site-packages\\tornado\\platform\\asyncio.py\", line 195, in start\n      self.asyncio_loop.run_forever()\n    File \"c:\\Users\\juank\\AppData\\Local\\Programs\\Python\\Python38\\lib\\asyncio\\base_events.py\", line 567, in run_forever\n      self._run_once()\n    File \"c:\\Users\\juank\\AppData\\Local\\Programs\\Python\\Python38\\lib\\asyncio\\base_events.py\", line 1855, in _run_once\n      handle._run()\n    File \"c:\\Users\\juank\\AppData\\Local\\Programs\\Python\\Python38\\lib\\asyncio\\events.py\", line 81, in _run\n      self._context.run(self._callback, *self._args)\n    File \"C:\\Users\\juank\\AppData\\Roaming\\Python\\Python38\\site-packages\\tornado\\ioloop.py\", line 685, in <lambda>\n      lambda f: self._run_callback(functools.partial(callback, future))\n    File \"C:\\Users\\juank\\AppData\\Roaming\\Python\\Python38\\site-packages\\tornado\\ioloop.py\", line 738, in _run_callback\n      ret = callback()\n    File \"C:\\Users\\juank\\AppData\\Roaming\\Python\\Python38\\site-packages\\tornado\\gen.py\", line 825, in inner\n      self.ctx_run(self.run)\n    File \"C:\\Users\\juank\\AppData\\Roaming\\Python\\Python38\\site-packages\\tornado\\gen.py\", line 786, in run\n      yielded = self.gen.send(value)\n    File \"C:\\Users\\juank\\AppData\\Roaming\\Python\\Python38\\site-packages\\ipykernel\\kernelbase.py\", line 365, in process_one\n      yield gen.maybe_future(dispatch(*args))\n    File \"C:\\Users\\juank\\AppData\\Roaming\\Python\\Python38\\site-packages\\tornado\\gen.py\", line 234, in wrapper\n      yielded = ctx_run(next, result)\n    File \"C:\\Users\\juank\\AppData\\Roaming\\Python\\Python38\\site-packages\\ipykernel\\kernelbase.py\", line 268, in dispatch_shell\n      yield gen.maybe_future(handler(stream, idents, msg))\n    File \"C:\\Users\\juank\\AppData\\Roaming\\Python\\Python38\\site-packages\\tornado\\gen.py\", line 234, in wrapper\n      yielded = ctx_run(next, result)\n    File \"C:\\Users\\juank\\AppData\\Roaming\\Python\\Python38\\site-packages\\ipykernel\\kernelbase.py\", line 543, in execute_request\n      self.do_execute(\n    File \"C:\\Users\\juank\\AppData\\Roaming\\Python\\Python38\\site-packages\\tornado\\gen.py\", line 234, in wrapper\n      yielded = ctx_run(next, result)\n    File \"C:\\Users\\juank\\AppData\\Roaming\\Python\\Python38\\site-packages\\ipykernel\\ipkernel.py\", line 306, in do_execute\n      res = shell.run_cell(code, store_history=store_history, silent=silent)\n    File \"C:\\Users\\juank\\AppData\\Roaming\\Python\\Python38\\site-packages\\ipykernel\\zmqshell.py\", line 536, in run_cell\n      return super(ZMQInteractiveShell, self).run_cell(*args, **kwargs)\n    File \"C:\\Users\\juank\\AppData\\Roaming\\Python\\Python38\\site-packages\\IPython\\core\\interactiveshell.py\", line 2877, in run_cell\n      result = self._run_cell(\n    File \"C:\\Users\\juank\\AppData\\Roaming\\Python\\Python38\\site-packages\\IPython\\core\\interactiveshell.py\", line 2923, in _run_cell\n      return runner(coro)\n    File \"C:\\Users\\juank\\AppData\\Roaming\\Python\\Python38\\site-packages\\IPython\\core\\async_helpers.py\", line 68, in _pseudo_sync_runner\n      coro.send(None)\n    File \"C:\\Users\\juank\\AppData\\Roaming\\Python\\Python38\\site-packages\\IPython\\core\\interactiveshell.py\", line 3146, in run_cell_async\n      has_raised = await self.run_ast_nodes(code_ast.body, cell_name,\n    File \"C:\\Users\\juank\\AppData\\Roaming\\Python\\Python38\\site-packages\\IPython\\core\\interactiveshell.py\", line 3338, in run_ast_nodes\n      if (await self.run_code(code, result,  async_=asy)):\n    File \"C:\\Users\\juank\\AppData\\Roaming\\Python\\Python38\\site-packages\\IPython\\core\\interactiveshell.py\", line 3418, in run_code\n      exec(code_obj, self.user_global_ns, self.user_ns)\n    File \"<ipython-input-17-556e252d903a>\", line 33, in <module>\n      ssd_model.fit(X_train, y_train_label, validation_data=(X_test, y_test_label), epochs=10, batch_size=32)\n    File \"c:\\Users\\juank\\AppData\\Local\\Programs\\Python\\Python38\\lib\\site-packages\\keras\\src\\utils\\traceback_utils.py\", line 65, in error_handler\n      return fn(*args, **kwargs)\n    File \"c:\\Users\\juank\\AppData\\Local\\Programs\\Python\\Python38\\lib\\site-packages\\keras\\src\\engine\\training.py\", line 1742, in fit\n      tmp_logs = self.train_function(iterator)\n    File \"c:\\Users\\juank\\AppData\\Local\\Programs\\Python\\Python38\\lib\\site-packages\\keras\\src\\engine\\training.py\", line 1338, in train_function\n      return step_function(self, iterator)\n    File \"c:\\Users\\juank\\AppData\\Local\\Programs\\Python\\Python38\\lib\\site-packages\\keras\\src\\engine\\training.py\", line 1322, in step_function\n      outputs = model.distribute_strategy.run(run_step, args=(data,))\n    File \"c:\\Users\\juank\\AppData\\Local\\Programs\\Python\\Python38\\lib\\site-packages\\keras\\src\\engine\\training.py\", line 1303, in run_step\n      outputs = model.train_step(data)\n    File \"c:\\Users\\juank\\AppData\\Local\\Programs\\Python\\Python38\\lib\\site-packages\\keras\\src\\engine\\training.py\", line 1081, in train_step\n      loss = self.compute_loss(x, y, y_pred, sample_weight)\n    File \"c:\\Users\\juank\\AppData\\Local\\Programs\\Python\\Python38\\lib\\site-packages\\keras\\src\\engine\\training.py\", line 1139, in compute_loss\n      return self.compiled_loss(\n    File \"c:\\Users\\juank\\AppData\\Local\\Programs\\Python\\Python38\\lib\\site-packages\\keras\\src\\engine\\compile_utils.py\", line 265, in __call__\n      loss_value = loss_obj(y_t, y_p, sample_weight=sw)\n    File \"c:\\Users\\juank\\AppData\\Local\\Programs\\Python\\Python38\\lib\\site-packages\\keras\\src\\losses.py\", line 142, in __call__\n      losses = call_fn(y_true, y_pred)\n    File \"c:\\Users\\juank\\AppData\\Local\\Programs\\Python\\Python38\\lib\\site-packages\\keras\\src\\losses.py\", line 268, in call\n      return ag_fn(y_true, y_pred, **self._fn_kwargs)\n    File \"c:\\Users\\juank\\AppData\\Local\\Programs\\Python\\Python38\\lib\\site-packages\\keras\\src\\losses.py\", line 2354, in sparse_categorical_crossentropy\n      return backend.sparse_categorical_crossentropy(\n    File \"c:\\Users\\juank\\AppData\\Local\\Programs\\Python\\Python38\\lib\\site-packages\\keras\\src\\backend.py\", line 5762, in sparse_categorical_crossentropy\n      res = tf.nn.sparse_softmax_cross_entropy_with_logits(\nNode: 'sparse_categorical_crossentropy/SparseSoftmaxCrossEntropyWithLogits/SparseSoftmaxCrossEntropyWithLogits'\nlogits and labels must have the same first dimension, got logits shape [128,20] and labels shape [32]\n\t [[{{node sparse_categorical_crossentropy/SparseSoftmaxCrossEntropyWithLogits/SparseSoftmaxCrossEntropyWithLogits}}]] [Op:__inference_train_function_64909]"
     ]
    }
   ],
   "source": [
    "def create_ssd_model(input_shape, num_classes, num_boxes=4):\n",
    "    base_model = tf.keras.applications.MobileNetV2(input_shape=input_shape, include_top=False, weights='imagenet')\n",
    "\n",
    "    extra_layers = [\n",
    "        layers.Conv2D(256, kernel_size=3, strides=2, padding='same', activation='relu'),\n",
    "        layers.Conv2D(128, kernel_size=3, strides=2, padding='same', activation='relu'),\n",
    "    ]\n",
    "\n",
    "    prediction_layers = [\n",
    "        layers.Conv2D(num_boxes * (num_classes + 4), kernel_size=3, padding='same'),  \n",
    "        layers.Conv2D(num_boxes * num_classes, kernel_size=3, padding='same'), \n",
    "    ]\n",
    "\n",
    "    model = models.Sequential([\n",
    "        base_model,\n",
    "        *extra_layers,\n",
    "        *prediction_layers\n",
    "    ])\n",
    "\n",
    "    return model\n",
    "\n",
    "input_shape = (224, 224, 3) \n",
    "num_classes = train_annotations['label'].nunique()\n",
    "ssd_model = create_ssd_model(input_shape, num_classes)\n",
    "\n",
    "ssd_model.compile(optimizer='adam', loss='sparse_categorical_crossentropy', metrics=['accuracy'])\n",
    "\n",
    "# Reshape y_train_label and y_test_label to match the expected shape\n",
    "# y_train_label and y_test_label should have shape (batch_size, num_boxes, num_classes)\n",
    "y_train_label = np.expand_dims(y_train_label, axis=1)\n",
    "y_test_label = np.expand_dims(y_test_label, axis=1)\n",
    "\n",
    "ssd_model.fit(X_train, y_train_label, validation_data=(X_test, y_test_label), epochs=10, batch_size=32)\n",
    "\n",
    "ssd_model.summary()"
   ]
  },
  {
   "cell_type": "code",
   "execution_count": 28,
   "metadata": {},
   "outputs": [
    {
     "name": "stdout",
     "output_type": "stream",
     "text": [
      "Epoch 1/10\n",
      "87/87 [==============================] - ETA: 0s - loss: 11.7348 - classification_output_loss: 1.6955 - regression_output_loss: 10.0393 - classification_output_accuracy: 0.6340 - regression_output_mse: 10.0393"
     ]
    },
    {
     "ename": "ValueError",
     "evalue": "Data cardinality is ambiguous:\n  x sizes: 424\n  y sizes: 859, 859\nMake sure all arrays contain the same number of samples.",
     "output_type": "error",
     "traceback": [
      "\u001b[1;31m---------------------------------------------------------------------------\u001b[0m",
      "\u001b[1;31mValueError\u001b[0m                                Traceback (most recent call last)",
      "\u001b[1;32m<ipython-input-28-b1cbfec552d6>\u001b[0m in \u001b[0;36m<module>\u001b[1;34m\u001b[0m\n\u001b[0;32m     23\u001b[0m \u001b[1;33m\u001b[0m\u001b[0m\n\u001b[0;32m     24\u001b[0m \u001b[1;31m# Train the model\u001b[0m\u001b[1;33m\u001b[0m\u001b[1;33m\u001b[0m\u001b[1;33m\u001b[0m\u001b[0m\n\u001b[1;32m---> 25\u001b[1;33m model.fit(X_train, {'classification_output': y_train_label, 'regression_output': y_train_bbox}, \n\u001b[0m\u001b[0;32m     26\u001b[0m           \u001b[0mvalidation_data\u001b[0m\u001b[1;33m=\u001b[0m\u001b[1;33m(\u001b[0m\u001b[0mX_val\u001b[0m\u001b[1;33m,\u001b[0m \u001b[1;33m{\u001b[0m\u001b[1;34m'classification_output'\u001b[0m\u001b[1;33m:\u001b[0m \u001b[0my_test_label\u001b[0m\u001b[1;33m,\u001b[0m \u001b[1;34m'regression_output'\u001b[0m\u001b[1;33m:\u001b[0m \u001b[0my_test_bbox\u001b[0m\u001b[1;33m}\u001b[0m\u001b[1;33m)\u001b[0m\u001b[1;33m,\u001b[0m\u001b[1;33m\u001b[0m\u001b[1;33m\u001b[0m\u001b[0m\n\u001b[0;32m     27\u001b[0m           epochs=10, batch_size=32)\n",
      "\u001b[1;32mc:\\Users\\juank\\AppData\\Local\\Programs\\Python\\Python38\\lib\\site-packages\\keras\\src\\utils\\traceback_utils.py\u001b[0m in \u001b[0;36merror_handler\u001b[1;34m(*args, **kwargs)\u001b[0m\n\u001b[0;32m     68\u001b[0m             \u001b[1;31m# To get the full stack trace, call:\u001b[0m\u001b[1;33m\u001b[0m\u001b[1;33m\u001b[0m\u001b[1;33m\u001b[0m\u001b[0m\n\u001b[0;32m     69\u001b[0m             \u001b[1;31m# `tf.debugging.disable_traceback_filtering()`\u001b[0m\u001b[1;33m\u001b[0m\u001b[1;33m\u001b[0m\u001b[1;33m\u001b[0m\u001b[0m\n\u001b[1;32m---> 70\u001b[1;33m             \u001b[1;32mraise\u001b[0m \u001b[0me\u001b[0m\u001b[1;33m.\u001b[0m\u001b[0mwith_traceback\u001b[0m\u001b[1;33m(\u001b[0m\u001b[0mfiltered_tb\u001b[0m\u001b[1;33m)\u001b[0m \u001b[1;32mfrom\u001b[0m \u001b[1;32mNone\u001b[0m\u001b[1;33m\u001b[0m\u001b[1;33m\u001b[0m\u001b[0m\n\u001b[0m\u001b[0;32m     71\u001b[0m         \u001b[1;32mfinally\u001b[0m\u001b[1;33m:\u001b[0m\u001b[1;33m\u001b[0m\u001b[1;33m\u001b[0m\u001b[0m\n\u001b[0;32m     72\u001b[0m             \u001b[1;32mdel\u001b[0m \u001b[0mfiltered_tb\u001b[0m\u001b[1;33m\u001b[0m\u001b[1;33m\u001b[0m\u001b[0m\n",
      "\u001b[1;32mc:\\Users\\juank\\AppData\\Local\\Programs\\Python\\Python38\\lib\\site-packages\\keras\\src\\engine\\data_adapter.py\u001b[0m in \u001b[0;36m_check_data_cardinality\u001b[1;34m(data)\u001b[0m\n\u001b[0;32m   1948\u001b[0m             )\n\u001b[0;32m   1949\u001b[0m         \u001b[0mmsg\u001b[0m \u001b[1;33m+=\u001b[0m \u001b[1;34m\"Make sure all arrays contain the same number of samples.\"\u001b[0m\u001b[1;33m\u001b[0m\u001b[1;33m\u001b[0m\u001b[0m\n\u001b[1;32m-> 1950\u001b[1;33m         \u001b[1;32mraise\u001b[0m \u001b[0mValueError\u001b[0m\u001b[1;33m(\u001b[0m\u001b[0mmsg\u001b[0m\u001b[1;33m)\u001b[0m\u001b[1;33m\u001b[0m\u001b[1;33m\u001b[0m\u001b[0m\n\u001b[0m\u001b[0;32m   1951\u001b[0m \u001b[1;33m\u001b[0m\u001b[0m\n\u001b[0;32m   1952\u001b[0m \u001b[1;33m\u001b[0m\u001b[0m\n",
      "\u001b[1;31mValueError\u001b[0m: Data cardinality is ambiguous:\n  x sizes: 424\n  y sizes: 859, 859\nMake sure all arrays contain the same number of samples."
     ]
    }
   ],
   "source": [
    "base_model = tf.keras.applications.MobileNetV2(input_shape=(224, 224, 3), include_top=False, weights='imagenet')\n",
    "\n",
    "flatten = layers.Flatten()(base_model.output)\n",
    "\n",
    "num_classes = train_annotations['label'].nunique()\n",
    "\n",
    "classification_head = layers.Dense(256, activation='relu')(flatten)\n",
    "classification_head = layers.Dropout(0.5)(classification_head)\n",
    "classification_output = layers.Dense(num_classes, activation='softmax', name='classification_output')(classification_head)\n",
    "\n",
    "# Add bounding box regression head\n",
    "regression_head = layers.Dense(256, activation='relu')(flatten)\n",
    "regression_head = layers.Dropout(0.5)(regression_head)\n",
    "regression_output = layers.Dense(4, activation='linear', name='regression_output')(regression_head)\n",
    "\n",
    "# Create the model\n",
    "model = models.Model(inputs=base_model.input, outputs=[classification_output, regression_output])\n",
    "\n",
    "# Compile the model\n",
    "model.compile(optimizer='adam', \n",
    "              loss={'classification_output': 'sparse_categorical_crossentropy', 'regression_output': 'mean_squared_error'},\n",
    "              metrics={'classification_output': 'accuracy', 'regression_output': 'mse'})\n",
    "\n",
    "# Train the model\n",
    "model.fit(X_train, {'classification_output': y_train_label, 'regression_output': y_train_bbox}, \n",
    "          validation_data=(X_val, {'classification_output': y_test_label, 'regression_output': y_test_bbox}), \n",
    "          epochs=10, batch_size=32)\n",
    "\n",
    "#losses = rcnn_model.evaluate(X_test, [y_rpn_cls_test, y_rpn_reg_test, y_cls_test, y_reg_test])\n",
    "#print(\"Total Loss:\", sum(losses))"
   ]
  },
  {
   "cell_type": "code",
   "execution_count": 33,
   "metadata": {},
   "outputs": [
    {
     "name": "stdout",
     "output_type": "stream",
     "text": [
      "Epoch 1/10\n"
     ]
    },
    {
     "ename": "ValueError",
     "evalue": "in user code:\n\n    File \"c:\\Users\\juank\\AppData\\Local\\Programs\\Python\\Python38\\lib\\site-packages\\keras\\src\\engine\\training.py\", line 1338, in train_function  *\n        return step_function(self, iterator)\n    File \"c:\\Users\\juank\\AppData\\Local\\Programs\\Python\\Python38\\lib\\site-packages\\keras\\src\\engine\\training.py\", line 1322, in step_function  **\n        outputs = model.distribute_strategy.run(run_step, args=(data,))\n    File \"c:\\Users\\juank\\AppData\\Local\\Programs\\Python\\Python38\\lib\\site-packages\\keras\\src\\engine\\training.py\", line 1303, in run_step  **\n        outputs = model.train_step(data)\n    File \"c:\\Users\\juank\\AppData\\Local\\Programs\\Python\\Python38\\lib\\site-packages\\keras\\src\\engine\\training.py\", line 1080, in train_step\n        y_pred = self(x, training=True)\n    File \"c:\\Users\\juank\\AppData\\Local\\Programs\\Python\\Python38\\lib\\site-packages\\keras\\src\\utils\\traceback_utils.py\", line 70, in error_handler\n        raise e.with_traceback(filtered_tb) from None\n    File \"c:\\Users\\juank\\AppData\\Local\\Programs\\Python\\Python38\\lib\\site-packages\\keras\\src\\engine\\input_spec.py\", line 298, in assert_input_compatibility\n        raise ValueError(\n\n    ValueError: Input 1 of layer \"model_12\" is incompatible with the layer: expected shape=(None, 32, 4), found shape=(1, 4)\n",
     "output_type": "error",
     "traceback": [
      "\u001b[1;31m---------------------------------------------------------------------------\u001b[0m",
      "\u001b[1;31mValueError\u001b[0m                                Traceback (most recent call last)",
      "\u001b[1;32m<ipython-input-33-fbe707734457>\u001b[0m in \u001b[0;36m<module>\u001b[1;34m\u001b[0m\n\u001b[0;32m    140\u001b[0m \u001b[1;33m\u001b[0m\u001b[0m\n\u001b[0;32m    141\u001b[0m \u001b[1;31m# Train the model\u001b[0m\u001b[1;33m\u001b[0m\u001b[1;33m\u001b[0m\u001b[1;33m\u001b[0m\u001b[0m\n\u001b[1;32m--> 142\u001b[1;33m \u001b[0mfaster_rcnn\u001b[0m\u001b[1;33m.\u001b[0m\u001b[0mfit\u001b[0m\u001b[1;33m(\u001b[0m\u001b[1;33m[\u001b[0m\u001b[0mX_train\u001b[0m\u001b[1;33m,\u001b[0m \u001b[0my_train_bbox\u001b[0m\u001b[1;33m]\u001b[0m\u001b[1;33m,\u001b[0m \u001b[1;33m[\u001b[0m\u001b[0my_train_label\u001b[0m\u001b[1;33m,\u001b[0m \u001b[0my_train_bbox\u001b[0m\u001b[1;33m]\u001b[0m\u001b[1;33m,\u001b[0m \u001b[0mvalidation_data\u001b[0m\u001b[1;33m=\u001b[0m\u001b[1;33m(\u001b[0m\u001b[1;33m[\u001b[0m\u001b[0mX_test\u001b[0m\u001b[1;33m,\u001b[0m \u001b[0my_test_bbox\u001b[0m\u001b[1;33m]\u001b[0m\u001b[1;33m,\u001b[0m \u001b[1;33m[\u001b[0m\u001b[0my_test_label\u001b[0m\u001b[1;33m,\u001b[0m \u001b[0my_test_bbox\u001b[0m\u001b[1;33m]\u001b[0m\u001b[1;33m)\u001b[0m\u001b[1;33m,\u001b[0m \u001b[0mepochs\u001b[0m\u001b[1;33m=\u001b[0m\u001b[1;36m10\u001b[0m\u001b[1;33m,\u001b[0m \u001b[0mbatch_size\u001b[0m\u001b[1;33m=\u001b[0m\u001b[1;36m1\u001b[0m\u001b[1;33m)\u001b[0m\u001b[1;33m\u001b[0m\u001b[1;33m\u001b[0m\u001b[0m\n\u001b[0m\u001b[0;32m    143\u001b[0m \u001b[1;33m\u001b[0m\u001b[0m\n\u001b[0;32m    144\u001b[0m \u001b[1;31m# Evaluate the model\u001b[0m\u001b[1;33m\u001b[0m\u001b[1;33m\u001b[0m\u001b[1;33m\u001b[0m\u001b[0m\n",
      "\u001b[1;32mc:\\Users\\juank\\AppData\\Local\\Programs\\Python\\Python38\\lib\\site-packages\\keras\\src\\utils\\traceback_utils.py\u001b[0m in \u001b[0;36merror_handler\u001b[1;34m(*args, **kwargs)\u001b[0m\n\u001b[0;32m     68\u001b[0m             \u001b[1;31m# To get the full stack trace, call:\u001b[0m\u001b[1;33m\u001b[0m\u001b[1;33m\u001b[0m\u001b[1;33m\u001b[0m\u001b[0m\n\u001b[0;32m     69\u001b[0m             \u001b[1;31m# `tf.debugging.disable_traceback_filtering()`\u001b[0m\u001b[1;33m\u001b[0m\u001b[1;33m\u001b[0m\u001b[1;33m\u001b[0m\u001b[0m\n\u001b[1;32m---> 70\u001b[1;33m             \u001b[1;32mraise\u001b[0m \u001b[0me\u001b[0m\u001b[1;33m.\u001b[0m\u001b[0mwith_traceback\u001b[0m\u001b[1;33m(\u001b[0m\u001b[0mfiltered_tb\u001b[0m\u001b[1;33m)\u001b[0m \u001b[1;32mfrom\u001b[0m \u001b[1;32mNone\u001b[0m\u001b[1;33m\u001b[0m\u001b[1;33m\u001b[0m\u001b[0m\n\u001b[0m\u001b[0;32m     71\u001b[0m         \u001b[1;32mfinally\u001b[0m\u001b[1;33m:\u001b[0m\u001b[1;33m\u001b[0m\u001b[1;33m\u001b[0m\u001b[0m\n\u001b[0;32m     72\u001b[0m             \u001b[1;32mdel\u001b[0m \u001b[0mfiltered_tb\u001b[0m\u001b[1;33m\u001b[0m\u001b[1;33m\u001b[0m\u001b[0m\n",
      "\u001b[1;32mc:\\Users\\juank\\AppData\\Local\\Programs\\Python\\Python38\\lib\\site-packages\\keras\\src\\engine\\training.py\u001b[0m in \u001b[0;36mtf__train_function\u001b[1;34m(iterator)\u001b[0m\n\u001b[0;32m     13\u001b[0m                 \u001b[1;32mtry\u001b[0m\u001b[1;33m:\u001b[0m\u001b[1;33m\u001b[0m\u001b[1;33m\u001b[0m\u001b[0m\n\u001b[0;32m     14\u001b[0m                     \u001b[0mdo_return\u001b[0m \u001b[1;33m=\u001b[0m \u001b[1;32mTrue\u001b[0m\u001b[1;33m\u001b[0m\u001b[1;33m\u001b[0m\u001b[0m\n\u001b[1;32m---> 15\u001b[1;33m                     \u001b[0mretval_\u001b[0m \u001b[1;33m=\u001b[0m \u001b[0mag__\u001b[0m\u001b[1;33m.\u001b[0m\u001b[0mconverted_call\u001b[0m\u001b[1;33m(\u001b[0m\u001b[0mag__\u001b[0m\u001b[1;33m.\u001b[0m\u001b[0mld\u001b[0m\u001b[1;33m(\u001b[0m\u001b[0mstep_function\u001b[0m\u001b[1;33m)\u001b[0m\u001b[1;33m,\u001b[0m \u001b[1;33m(\u001b[0m\u001b[0mag__\u001b[0m\u001b[1;33m.\u001b[0m\u001b[0mld\u001b[0m\u001b[1;33m(\u001b[0m\u001b[0mself\u001b[0m\u001b[1;33m)\u001b[0m\u001b[1;33m,\u001b[0m \u001b[0mag__\u001b[0m\u001b[1;33m.\u001b[0m\u001b[0mld\u001b[0m\u001b[1;33m(\u001b[0m\u001b[0miterator\u001b[0m\u001b[1;33m)\u001b[0m\u001b[1;33m)\u001b[0m\u001b[1;33m,\u001b[0m \u001b[1;32mNone\u001b[0m\u001b[1;33m,\u001b[0m \u001b[0mfscope\u001b[0m\u001b[1;33m)\u001b[0m\u001b[1;33m\u001b[0m\u001b[1;33m\u001b[0m\u001b[0m\n\u001b[0m\u001b[0;32m     16\u001b[0m                 \u001b[1;32mexcept\u001b[0m\u001b[1;33m:\u001b[0m\u001b[1;33m\u001b[0m\u001b[1;33m\u001b[0m\u001b[0m\n\u001b[0;32m     17\u001b[0m                     \u001b[0mdo_return\u001b[0m \u001b[1;33m=\u001b[0m \u001b[1;32mFalse\u001b[0m\u001b[1;33m\u001b[0m\u001b[1;33m\u001b[0m\u001b[0m\n",
      "\u001b[1;31mValueError\u001b[0m: in user code:\n\n    File \"c:\\Users\\juank\\AppData\\Local\\Programs\\Python\\Python38\\lib\\site-packages\\keras\\src\\engine\\training.py\", line 1338, in train_function  *\n        return step_function(self, iterator)\n    File \"c:\\Users\\juank\\AppData\\Local\\Programs\\Python\\Python38\\lib\\site-packages\\keras\\src\\engine\\training.py\", line 1322, in step_function  **\n        outputs = model.distribute_strategy.run(run_step, args=(data,))\n    File \"c:\\Users\\juank\\AppData\\Local\\Programs\\Python\\Python38\\lib\\site-packages\\keras\\src\\engine\\training.py\", line 1303, in run_step  **\n        outputs = model.train_step(data)\n    File \"c:\\Users\\juank\\AppData\\Local\\Programs\\Python\\Python38\\lib\\site-packages\\keras\\src\\engine\\training.py\", line 1080, in train_step\n        y_pred = self(x, training=True)\n    File \"c:\\Users\\juank\\AppData\\Local\\Programs\\Python\\Python38\\lib\\site-packages\\keras\\src\\utils\\traceback_utils.py\", line 70, in error_handler\n        raise e.with_traceback(filtered_tb) from None\n    File \"c:\\Users\\juank\\AppData\\Local\\Programs\\Python\\Python38\\lib\\site-packages\\keras\\src\\engine\\input_spec.py\", line 298, in assert_input_compatibility\n        raise ValueError(\n\n    ValueError: Input 1 of layer \"model_12\" is incompatible with the layer: expected shape=(None, 32, 4), found shape=(1, 4)\n"
     ]
    }
   ],
   "source": [
    "def vgg16_backbone(input_shape):\n",
    "    base_model = tf.keras.applications.VGG16(weights='imagenet', include_top=False, input_shape=input_shape)\n",
    "    backbone_model = models.Model(inputs=base_model.input, outputs=base_model.get_layer('block5_conv3').output)\n",
    "    return backbone_model\n",
    "\n",
    "def rpn_layer(base_layers, num_anchors):\n",
    "    x = layers.Conv2D(512, (3, 3), padding='same', activation='relu', kernel_initializer='normal', name='rpn_conv1')(base_layers)\n",
    "    x_class = layers.Conv2D(num_anchors, (1, 1), activation='sigmoid', kernel_initializer='uniform', name='rpn_out_class')(x)\n",
    "    x_regr = layers.Conv2D(num_anchors * 4, (1, 1), activation='linear', kernel_initializer='zero', name='rpn_out_regress')(x)\n",
    "    return [x_class, x_regr]\n",
    "\n",
    "def roi_pooling(base_layers, rois, pool_size):\n",
    "    # Reshape RoI coordinates to [batch_size * num_rois, 4]\n",
    "    rois_shape = tf.shape(rois)\n",
    "    rois_reshaped = tf.reshape(rois, [-1, 4])\n",
    "\n",
    "    # Extract coordinates\n",
    "    y1, x1, y2, x2 = tf.split(rois_reshaped, 4, axis=1)\n",
    "\n",
    "    # Normalize coordinates to match the feature map size\n",
    "    image_height = tf.cast(tf.shape(base_layers)[1], dtype=tf.float32)\n",
    "    image_width = tf.cast(tf.shape(base_layers)[2], dtype=tf.float32)\n",
    "    y1 = y1 / image_height\n",
    "    x1 = x1 / image_width\n",
    "    y2 = y2 / image_height\n",
    "    x2 = x2 / image_width\n",
    "\n",
    "    # Stack normalized coordinates\n",
    "    normalized_rois = tf.concat([y1, x1, y2, x2], axis=1)\n",
    "\n",
    "    # Perform ROI pooling\n",
    "    pooled_features = tf.image.crop_and_resize(base_layers, normalized_rois, tf.zeros((rois_shape[0] * rois_shape[1],), dtype=tf.int32), (pool_size, pool_size))\n",
    "\n",
    "    # Reshape pooled features back to [batch_size, num_rois, pool_size, pool_size, num_channels]\n",
    "    pooled_features = tf.reshape(pooled_features, [rois_shape[0], rois_shape[1], pool_size, pool_size, tf.shape(base_layers)[-1]])\n",
    "\n",
    "    return pooled_features\n",
    "\n",
    "# Classifier head\n",
    "def classifier_layer(base_layers, input_rois, num_rois, num_classes):\n",
    "    pooling_regions = 7\n",
    "    out_roi_pool = tf.squeeze(base_layers, axis=0)  # Remove the extra dimension\n",
    "    out_roi_pool = layers.MaxPooling2D(pool_size=(pooling_regions, pooling_regions), padding='valid')(out_roi_pool)\n",
    "    out = layers.TimeDistributed(layers.Flatten(name='flatten'))(out_roi_pool)\n",
    "    out = layers.TimeDistributed(layers.Dense(4096, activation='relu', name='fc1'))(out)\n",
    "    out = layers.TimeDistributed(layers.Dense(4096, activation='relu', name='fc2'))(out)\n",
    "    out_class = layers.TimeDistributed(layers.Dense(num_classes, activation='softmax', kernel_initializer='zero'), name='dense_class_{}'.format(num_classes))(out)\n",
    "    out_regr = layers.TimeDistributed(layers.Dense(num_classes * 4, activation='linear', kernel_initializer='zero'), name='dense_regress_{}'.format(num_classes))(out)\n",
    "    return [out_class, out_regr]\n",
    "\n",
    "# Build Faster R-CNN model\n",
    "def faster_rcnn_model(num_anchors, num_classes):\n",
    "    input_shape_img = (None, None, 3)\n",
    "    input_shape_features = (None, None, 512)\n",
    "    num_rois = 32  # Number of RoIs (Region of Interests)\n",
    "    \n",
    "    # Input layer for image\n",
    "    img_input = layers.Input(shape=input_shape_img)\n",
    "    \n",
    "    # VGG16 backbone\n",
    "    base_layers = vgg16_backbone(input_shape_img)(img_input)\n",
    "    \n",
    "    # Region Proposal Network (RPN)\n",
    "    rpn = rpn_layer(base_layers, num_anchors)\n",
    "    \n",
    "    # RoI pooling layer\n",
    "    roi_input = layers.Input(shape=(num_rois, 4))  # (batch_size, num_rois, 4)\n",
    "    pooled_features = roi_pooling(base_layers, roi_input, 7)\n",
    "    \n",
    "    # Classifier head\n",
    "    classification = classifier_layer(pooled_features, roi_input, num_rois, num_classes)\n",
    "    \n",
    "    model = models.Model(inputs=[img_input, roi_input], outputs=rpn + classification)\n",
    "    return model\n",
    "\n",
    "num_anchors = 9  \n",
    "\n",
    "num_classes = 5  \n",
    "\n",
    "faster_rcnn = faster_rcnn_model(num_anchors, num_classes)\n",
    "\n",
    "def rpn_loss_cls(num_anchors):\n",
    "    def rpn_loss_cls_fixed_num(y_true, y_pred):\n",
    "        y_true = tf.cast(y_true, tf.int32)\n",
    "        cls_true = y_true[:, :, :, :num_anchors]  # Ground truth class labels for anchors\n",
    "        cls_pred = y_pred[0]  # Predicted class probabilities for anchors\n",
    "        cls_loss = tf.keras.losses.sparse_categorical_crossentropy(cls_true, cls_pred, from_logits=True)\n",
    "        cls_loss = tf.reduce_mean(cls_loss, axis=[1, 2])\n",
    "        return cls_loss\n",
    "    return rpn_loss_cls_fixed_num\n",
    "\n",
    "def rpn_loss_regr(num_anchors):\n",
    "    def rpn_loss_regr_fixed_num(y_true, y_pred):\n",
    "        y_true = tf.cast(y_true, tf.float32)\n",
    "        regr_true = y_true[:, :, :, num_anchors:]  # Ground truth bounding box regression targets for anchors\n",
    "        regr_pred = y_pred[1]  # Predicted bounding box regression values for anchors\n",
    "        mask = tf.abs(y_true[:, :, :, :num_anchors])  # Anchor mask: 1 if positive anchor, 0 if negative anchor\n",
    "        regr_loss = tf.reduce_sum(tf.keras.losses.smooth_l1(regr_true, regr_pred), axis=-1)  # Smooth L1 loss\n",
    "        regr_loss = tf.reduce_sum(regr_loss * mask, axis=[1, 2]) / tf.reduce_sum(mask, axis=[1, 2])  \n",
    "        return regr_loss\n",
    "    return rpn_loss_regr_fixed_num\n",
    "\n",
    "def class_loss_cls(y_true, y_pred):\n",
    "    y_true = tf.cast(y_true, tf.int32)\n",
    "    cls_true = y_true[:, :, :, 0]  # Ground truth class labels for RoIs\n",
    "    cls_pred = y_pred[0]  # Predicted class probabilities for RoIs\n",
    "    cls_loss = tf.keras.losses.sparse_categorical_crossentropy(cls_true, cls_pred, from_logits=True)\n",
    "    cls_loss = tf.reduce_mean(cls_loss, axis=[1])  # Average loss over RoIs\n",
    "    return cls_loss\n",
    "\n",
    "def class_loss_regr(num_classes):\n",
    "    def class_loss_regr_fixed_num(y_true, y_pred):\n",
    "        y_true = tf.cast(y_true, tf.float32)\n",
    "        regr_true = y_true[:, :, :, num_classes:]  # Ground truth bounding box regression targets for RoIs\n",
    "        regr_pred = y_pred[1]  # Predicted bounding box regression values for RoIs\n",
    "        mask = tf.tile(tf.expand_dims(y_true[:, :, :, :num_classes], axis=-1), [1, 1, 1, 4])  # RoI mask: 1 if positive RoI, 0 if negative RoI\n",
    "        regr_loss = tf.reduce_sum(tf.keras.losses.smooth_l1(regr_true, regr_pred), axis=-1)  # Smooth L1 loss\n",
    "        regr_loss = tf.reduce_sum(regr_loss * mask, axis=[1, 2]) / tf.reduce_sum(mask, axis=[1, 2])  # Average loss only over positive RoIs\n",
    "        return regr_loss\n",
    "    return class_loss_regr_fixed_num\n",
    "\n",
    "# Compile the model\n",
    "faster_rcnn.compile(optimizer='adam', loss=[rpn_loss_cls(num_anchors), rpn_loss_regr(num_anchors), class_loss_cls, class_loss_regr(num_classes - 1)], metrics=['accuracy'])\n",
    "\n",
    "# Train the model\n",
    "faster_rcnn.fit([X_train, y_train_bbox], [y_train_label, y_train_bbox], validation_data=([X_test, y_test_bbox], [y_test_label, y_test_bbox]), epochs=10, batch_size=1)\n",
    "\n",
    "# Evaluate the model\n",
    "losses = faster_rcnn.evaluate([X_val, y_val_bbox], [y_val_label, y_val_bbox])\n",
    "print(\"Total Loss:\", sum(losses))"
   ]
  },
  {
   "cell_type": "markdown",
   "metadata": {},
   "source": [
    "- [R-CNN review](https://pyimagesearch.com/2020/07/13/r-cnn-object-detection-with-keras-tensorflow-and-deep-learning/)\n",
    "- [Implementation review](https://towardsdatascience.com/faster-r-cnn-object-detection-implemented-by-keras-for-custom-data-from-googles-open-images-125f62b9141a)\n",
    "\n",
    "- [Implementation code example](https://github.com/yhenon/pytorch-retinanet/tree/master/retinanet)\n",
    "\n",
    "- [RetinaNet](https://towardsdatascience.com/retinanet-custom-object-detection-training-with-5-lines-of-code-37442640d142)"
   ]
  },
  {
   "cell_type": "markdown",
   "metadata": {},
   "source": [
    "## RetinaNet Implementation"
   ]
  },
  {
   "cell_type": "code",
   "execution_count": 1,
   "metadata": {},
   "outputs": [],
   "source": [
    "import os\n",
    "import sys\n",
    "sys.path.append(\"Monk_Object_Detection/5_pytorch_retinanet/lib/\");"
   ]
  },
  {
   "cell_type": "code",
   "execution_count": 2,
   "metadata": {},
   "outputs": [
    {
     "name": "stdout",
     "output_type": "stream",
     "text": [
      "2.2.2+cpu\n"
     ]
    }
   ],
   "source": [
    "import torch\n",
    "\n",
    "print(torch.__version__)"
   ]
  },
  {
   "cell_type": "code",
   "execution_count": 9,
   "metadata": {},
   "outputs": [],
   "source": [
    "from train_detector import Detector"
   ]
  },
  {
   "cell_type": "code",
   "execution_count": 8,
   "metadata": {},
   "outputs": [],
   "source": [
    "gtf = Detector();"
   ]
  },
  {
   "cell_type": "code",
   "execution_count": 22,
   "metadata": {},
   "outputs": [],
   "source": [
    "root_dir = \"\"\n",
    "coco_dir = \"coco_dir\"\n",
    "img_dir = \"images/train\"\n",
    "set_dir = \"\""
   ]
  },
  {
   "cell_type": "code",
   "execution_count": 23,
   "metadata": {},
   "outputs": [
    {
     "name": "stdout",
     "output_type": "stream",
     "text": [
      "loading annotations into memory...\n"
     ]
    },
    {
     "ename": "FileNotFoundError",
     "evalue": "[Errno 2] No such file or directory: '/coco_dir\\\\annotations\\\\instances_.json'",
     "output_type": "error",
     "traceback": [
      "\u001b[1;31m---------------------------------------------------------------------------\u001b[0m",
      "\u001b[1;31mFileNotFoundError\u001b[0m                         Traceback (most recent call last)",
      "\u001b[1;32m<ipython-input-23-40fb12d00f1a>\u001b[0m in \u001b[0;36m<module>\u001b[1;34m\u001b[0m\n\u001b[1;32m----> 1\u001b[1;33m \u001b[0mgtf\u001b[0m\u001b[1;33m.\u001b[0m\u001b[0mTrain_Dataset\u001b[0m\u001b[1;33m(\u001b[0m\u001b[0mroot_dir\u001b[0m\u001b[1;33m,\u001b[0m \u001b[0mcoco_dir\u001b[0m\u001b[1;33m,\u001b[0m \u001b[0mimg_dir\u001b[0m\u001b[1;33m,\u001b[0m \u001b[0mset_dir\u001b[0m\u001b[1;33m,\u001b[0m \u001b[0mbatch_size\u001b[0m\u001b[1;33m=\u001b[0m\u001b[1;36m32\u001b[0m\u001b[1;33m,\u001b[0m \u001b[0muse_gpu\u001b[0m\u001b[1;33m=\u001b[0m\u001b[1;32mFalse\u001b[0m\u001b[1;33m)\u001b[0m\u001b[1;33m\u001b[0m\u001b[1;33m\u001b[0m\u001b[0m\n\u001b[0m",
      "\u001b[1;32mc:\\Users\\juank\\Desktop\\NoDigasMamadas\\Monk_Object_Detection\\5_pytorch_retinanet\\lib\\train_detector.py\u001b[0m in \u001b[0;36mTrain_Dataset\u001b[1;34m(self, root_dir, coco_dir, img_dir, set_dir, batch_size, image_size, use_gpu, num_workers)\u001b[0m\n\u001b[0;32m    115\u001b[0m \u001b[1;33m\u001b[0m\u001b[0m\n\u001b[0;32m    116\u001b[0m \u001b[1;33m\u001b[0m\u001b[0m\n\u001b[1;32m--> 117\u001b[1;33m         self.system_dict[\"local\"][\"dataset_train\"] = CocoDataset(self.system_dict[\"dataset\"][\"train\"][\"root_dir\"] + \"/\" + self.system_dict[\"dataset\"][\"train\"][\"coco_dir\"], \n\u001b[0m\u001b[0;32m    118\u001b[0m                                                             \u001b[0mimg_dir\u001b[0m\u001b[1;33m=\u001b[0m\u001b[0mself\u001b[0m\u001b[1;33m.\u001b[0m\u001b[0msystem_dict\u001b[0m\u001b[1;33m[\u001b[0m\u001b[1;34m\"dataset\"\u001b[0m\u001b[1;33m]\u001b[0m\u001b[1;33m[\u001b[0m\u001b[1;34m\"train\"\u001b[0m\u001b[1;33m]\u001b[0m\u001b[1;33m[\u001b[0m\u001b[1;34m\"img_dir\"\u001b[0m\u001b[1;33m]\u001b[0m\u001b[1;33m,\u001b[0m\u001b[1;33m\u001b[0m\u001b[1;33m\u001b[0m\u001b[0m\n\u001b[0;32m    119\u001b[0m                                                             \u001b[0mset_dir\u001b[0m\u001b[1;33m=\u001b[0m\u001b[0mself\u001b[0m\u001b[1;33m.\u001b[0m\u001b[0msystem_dict\u001b[0m\u001b[1;33m[\u001b[0m\u001b[1;34m\"dataset\"\u001b[0m\u001b[1;33m]\u001b[0m\u001b[1;33m[\u001b[0m\u001b[1;34m\"train\"\u001b[0m\u001b[1;33m]\u001b[0m\u001b[1;33m[\u001b[0m\u001b[1;34m\"set_dir\"\u001b[0m\u001b[1;33m]\u001b[0m\u001b[1;33m,\u001b[0m\u001b[1;33m\u001b[0m\u001b[1;33m\u001b[0m\u001b[0m\n",
      "\u001b[1;32mc:\\Users\\juank\\Desktop\\NoDigasMamadas\\Monk_Object_Detection\\5_pytorch_retinanet\\lib\\retinanet\\dataloader.py\u001b[0m in \u001b[0;36m__init__\u001b[1;34m(self, root_dir, img_dir, set_dir, transform)\u001b[0m\n\u001b[0;32m     34\u001b[0m         \u001b[0mself\u001b[0m\u001b[1;33m.\u001b[0m\u001b[0mtransform\u001b[0m \u001b[1;33m=\u001b[0m \u001b[0mtransform\u001b[0m\u001b[1;33m\u001b[0m\u001b[1;33m\u001b[0m\u001b[0m\n\u001b[0;32m     35\u001b[0m \u001b[1;33m\u001b[0m\u001b[0m\n\u001b[1;32m---> 36\u001b[1;33m         \u001b[0mself\u001b[0m\u001b[1;33m.\u001b[0m\u001b[0mcoco\u001b[0m \u001b[1;33m=\u001b[0m \u001b[0mCOCO\u001b[0m\u001b[1;33m(\u001b[0m\u001b[0mos\u001b[0m\u001b[1;33m.\u001b[0m\u001b[0mpath\u001b[0m\u001b[1;33m.\u001b[0m\u001b[0mjoin\u001b[0m\u001b[1;33m(\u001b[0m\u001b[0mself\u001b[0m\u001b[1;33m.\u001b[0m\u001b[0mroot_dir\u001b[0m\u001b[1;33m,\u001b[0m \u001b[1;34m'annotations'\u001b[0m\u001b[1;33m,\u001b[0m \u001b[1;34m'instances_'\u001b[0m \u001b[1;33m+\u001b[0m \u001b[0mself\u001b[0m\u001b[1;33m.\u001b[0m\u001b[0mset_name\u001b[0m \u001b[1;33m+\u001b[0m \u001b[1;34m'.json'\u001b[0m\u001b[1;33m)\u001b[0m\u001b[1;33m)\u001b[0m\u001b[1;33m\u001b[0m\u001b[1;33m\u001b[0m\u001b[0m\n\u001b[0m\u001b[0;32m     37\u001b[0m         \u001b[0mself\u001b[0m\u001b[1;33m.\u001b[0m\u001b[0mimage_ids\u001b[0m \u001b[1;33m=\u001b[0m \u001b[0mself\u001b[0m\u001b[1;33m.\u001b[0m\u001b[0mcoco\u001b[0m\u001b[1;33m.\u001b[0m\u001b[0mgetImgIds\u001b[0m\u001b[1;33m(\u001b[0m\u001b[1;33m)\u001b[0m\u001b[1;33m\u001b[0m\u001b[1;33m\u001b[0m\u001b[0m\n\u001b[0;32m     38\u001b[0m \u001b[1;33m\u001b[0m\u001b[0m\n",
      "\u001b[1;32mc:\\Users\\juank\\AppData\\Local\\Programs\\Python\\Python38\\lib\\site-packages\\pycocotools\\coco.py\u001b[0m in \u001b[0;36m__init__\u001b[1;34m(self, annotation_file)\u001b[0m\n\u001b[0;32m     79\u001b[0m             \u001b[0mprint\u001b[0m\u001b[1;33m(\u001b[0m\u001b[1;34m'loading annotations into memory...'\u001b[0m\u001b[1;33m)\u001b[0m\u001b[1;33m\u001b[0m\u001b[1;33m\u001b[0m\u001b[0m\n\u001b[0;32m     80\u001b[0m             \u001b[0mtic\u001b[0m \u001b[1;33m=\u001b[0m \u001b[0mtime\u001b[0m\u001b[1;33m.\u001b[0m\u001b[0mtime\u001b[0m\u001b[1;33m(\u001b[0m\u001b[1;33m)\u001b[0m\u001b[1;33m\u001b[0m\u001b[1;33m\u001b[0m\u001b[0m\n\u001b[1;32m---> 81\u001b[1;33m             \u001b[1;32mwith\u001b[0m \u001b[0mopen\u001b[0m\u001b[1;33m(\u001b[0m\u001b[0mannotation_file\u001b[0m\u001b[1;33m,\u001b[0m \u001b[1;34m'r'\u001b[0m\u001b[1;33m)\u001b[0m \u001b[1;32mas\u001b[0m \u001b[0mf\u001b[0m\u001b[1;33m:\u001b[0m\u001b[1;33m\u001b[0m\u001b[1;33m\u001b[0m\u001b[0m\n\u001b[0m\u001b[0;32m     82\u001b[0m                 \u001b[0mdataset\u001b[0m \u001b[1;33m=\u001b[0m \u001b[0mjson\u001b[0m\u001b[1;33m.\u001b[0m\u001b[0mload\u001b[0m\u001b[1;33m(\u001b[0m\u001b[0mf\u001b[0m\u001b[1;33m)\u001b[0m\u001b[1;33m\u001b[0m\u001b[1;33m\u001b[0m\u001b[0m\n\u001b[0;32m     83\u001b[0m             \u001b[1;32massert\u001b[0m \u001b[0mtype\u001b[0m\u001b[1;33m(\u001b[0m\u001b[0mdataset\u001b[0m\u001b[1;33m)\u001b[0m\u001b[1;33m==\u001b[0m\u001b[0mdict\u001b[0m\u001b[1;33m,\u001b[0m \u001b[1;34m'annotation file format {} not supported'\u001b[0m\u001b[1;33m.\u001b[0m\u001b[0mformat\u001b[0m\u001b[1;33m(\u001b[0m\u001b[0mtype\u001b[0m\u001b[1;33m(\u001b[0m\u001b[0mdataset\u001b[0m\u001b[1;33m)\u001b[0m\u001b[1;33m)\u001b[0m\u001b[1;33m\u001b[0m\u001b[1;33m\u001b[0m\u001b[0m\n",
      "\u001b[1;31mFileNotFoundError\u001b[0m: [Errno 2] No such file or directory: '/coco_dir\\\\annotations\\\\instances_.json'"
     ]
    }
   ],
   "source": [
    "gtf.Train_Dataset(root_dir, coco_dir, img_dir, set_dir, batch_size=32, use_gpu=False)"
   ]
  },
  {
   "cell_type": "code",
   "execution_count": null,
   "metadata": {},
   "outputs": [],
   "source": [
    "gtf.Model(model_name=\"resnet152\", gpu_devices=[0])\n",
    "gtf.Set_Hyperparams(lr=0.0001, val_interval=1, print_interval=20)\n",
    "gtf.Train(num_epochs=10, output_model_name=\"final_model.pt\")"
   ]
  },
  {
   "cell_type": "code",
   "execution_count": 7,
   "metadata": {},
   "outputs": [],
   "source": [
    "import csv\n",
    "import json\n",
    "\n",
    "annotations = []\n",
    "with open(\"annotations_train.csv\", \"r\") as csvfile:\n",
    "    csvreader = csv.reader(csvfile)\n",
    "    next(csvreader)\n",
    "    for row in csvreader:\n",
    "        annotations.append(row)\n",
    "\n",
    "coco_data = {\n",
    "    \"images\": [],\n",
    "    \"annotations\": [],\n",
    "    \"categories\": [],\n",
    "}\n",
    "\n",
    "# Process annotations\n",
    "annotation_id = 1\n",
    "category_id_map = {}  \n",
    "for row in annotations:\n",
    "    img_path, xmin, ymin, xmax, ymax, width, height, label = row\n",
    "    # Add image entry\n",
    "    image_id = len(coco_data[\"images\"]) + 1\n",
    "    coco_data[\"images\"].append({\"id\": image_id, \"file_name\": img_path, \"width\": int(width), \"height\": int(height)})\n",
    "\n",
    "    if label not in category_id_map:\n",
    "        category_id = len(coco_data[\"categories\"]) + 1\n",
    "        category_id_map[label] = category_id\n",
    "        coco_data[\"categories\"].append({\"id\": category_id, \"name\": label}) #TODO We need to map it to the actual label name\n",
    "\n",
    "    coco_data[\"annotations\"].append({\n",
    "        \"id\": annotation_id,\n",
    "        \"image_id\": image_id,\n",
    "        \"bbox\": [float(xmin), float(ymin), float(xmax) - float(xmin), float(ymax) - float(ymin)],\n",
    "        \"category_id\": category_id_map[label],  # Use the mapped category ID\n",
    "        \"area\": (float(xmax) - float(xmin)) * (float(ymax) - float(ymin)) * int(width) * int(height),\n",
    "        \"iscrowd\": 0 \n",
    "    })\n",
    "    annotation_id += 1\n",
    "\n",
    "with open(\"annotations_train.json\", \"w\") as f:\n",
    "    json.dump(coco_data, f)"
   ]
  }
 ],
 "metadata": {
  "kernelspec": {
   "display_name": "Python 3",
   "language": "python",
   "name": "python3"
  },
  "language_info": {
   "codemirror_mode": {
    "name": "ipython",
    "version": 3
   },
   "file_extension": ".py",
   "mimetype": "text/x-python",
   "name": "python",
   "nbconvert_exporter": "python",
   "pygments_lexer": "ipython3",
   "version": "3.8.1"
  }
 },
 "nbformat": 4,
 "nbformat_minor": 2
}
