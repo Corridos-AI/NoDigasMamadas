{
 "cells": [
  {
   "cell_type": "markdown",
   "metadata": {},
   "source": [
    "# Modelo De Detección De Objetos Para La Fac\n",
    "\n",
    "Grupo 1\n",
    "- Juan Camilo Colmenares Ortiz - 202011866\n",
    "- Juan Sebastian Montealegre - 202017834\n",
    "- Francisco - XXXXXXXXX"
   ]
  },
  {
   "cell_type": "markdown",
   "metadata": {},
   "source": [
    "### Imports"
   ]
  },
  {
   "cell_type": "code",
   "execution_count": 3,
   "metadata": {},
   "outputs": [],
   "source": [
    "import numpy as np \n",
    "import pandas as pd \n",
    "import os\n",
    "from keras.preprocessing.image import ImageDataGenerator\n",
    "import tensorflow as tf\n",
    "import random"
   ]
  },
  {
   "cell_type": "code",
   "execution_count": 5,
   "metadata": {},
   "outputs": [
    {
     "name": "stdout",
     "output_type": "stream",
     "text": [
      "Tensorflow version: 2.13.0\n"
     ]
    }
   ],
   "source": [
    "import pandas as pd\n",
    "import numpy as np\n",
    "import random\n",
    "\n",
    "import matplotlib.pyplot as plt\n",
    "%matplotlib inline\n",
    "\n",
    "import tensorflow as tf\n",
    "from tensorflow.keras.applications import InceptionV3\n",
    "\n",
    "\n",
    "# from keras.preprocessing.image import ImageDataGenerator, array_to_img, img_to_array, load_img\n",
    "from keras.models import Sequential\n",
    "from keras.layers import Dropout, Flatten, Dense, Input, GlobalAveragePooling2D\n",
    "from keras import backend as K\n",
    "from keras import applications\n",
    "from keras.utils import plot_model\n",
    "\n",
    "\n",
    "import keras_tuner as kt\n",
    "\n",
    "from sklearn.metrics import classification_report, confusion_matrix\n",
    "from sklearn.model_selection import train_test_split\n",
    "\n",
    "from tqdm.auto import tqdm\n",
    "import shutil as sh\n",
    "\n",
    "import matplotlib.pyplot as plt\n",
    "from IPython.display import Image, clear_output\n",
    "%matplotlib inline\n",
    "\n",
    "import os\n",
    "import shutil\n",
    "from xml.etree import ElementTree as ET\n",
    "import cv2\n",
    "import xml.etree.ElementTree as ET\n",
    "from PIL import Image\n",
    "import glob\n",
    "\n",
    "print('Tensorflow version:', tf.__version__)"
   ]
  },
  {
   "cell_type": "markdown",
   "metadata": {},
   "source": [
    "# Primer modelo"
   ]
  },
  {
   "cell_type": "code",
   "execution_count": 28,
   "metadata": {},
   "outputs": [],
   "source": [
    "def divide_files_type(source_dir, dest_img_dir, dest_label_dir):\n",
    "    \n",
    "    for filename in os.listdir(source_dir):\n",
    "        if filename.endswith('.jpg') or filename.endswith('.png'):\n",
    "            shutil.move(os.path.join(source_dir, filename), os.path.join(dest_img_dir, filename))\n",
    "        elif filename.endswith('.txt'):\n",
    "            shutil.move(os.path.join(source_dir, filename), os.path.join(dest_label_dir, filename))\n",
    "\n",
    "source_directory = 'processed_images'\n",
    "\n",
    "destination_image_directory = 'images'\n",
    "destination_label_directory = 'labels'\n",
    "\n",
    "divide_files_type(source_directory, destination_image_directory, destination_label_directory)"
   ]
  },
  {
   "cell_type": "code",
   "execution_count": 14,
   "metadata": {},
   "outputs": [],
   "source": [
    "curr_path = os.getcwd()\n",
    "img_train_path = os.path.join(curr_path,'images','train')\n",
    "img_val_path = os.path.join(curr_path,'images','val')\n",
    "img_test_path = os.path.join(curr_path,'images','test')\n",
    "\n",
    "label_train_path = os.path.join(curr_path,'labels','train')\n",
    "label_val_path = os.path.join(curr_path,'labels','val')\n",
    "label_test_path = os.path.join(curr_path,'labels','test')"
   ]
  },
  {
   "cell_type": "code",
   "execution_count": 17,
   "metadata": {},
   "outputs": [
    {
     "data": {
      "text/plain": [
       "('c:\\\\Users\\\\juank\\\\Desktop\\\\NoDigasMamadas\\\\images\\\\test',\n",
       " 'c:\\\\Users\\\\juank\\\\Desktop\\\\NoDigasMamadas\\\\labels\\\\test')"
      ]
     },
     "execution_count": 17,
     "metadata": {},
     "output_type": "execute_result"
    }
   ],
   "source": [
    "img_test_path, label_test_path"
   ]
  },
  {
   "cell_type": "code",
   "execution_count": 11,
   "metadata": {},
   "outputs": [
    {
     "data": {
      "text/plain": [
       "'c:\\\\Users\\\\juank\\\\Desktop\\\\NoDigasMamadas'"
      ]
     },
     "execution_count": 11,
     "metadata": {},
     "output_type": "execute_result"
    }
   ],
   "source": [
    "curr_path"
   ]
  },
  {
   "cell_type": "code",
   "execution_count": 18,
   "metadata": {},
   "outputs": [],
   "source": [
    "curr_path = os.getcwd()\n",
    "# label_path = os.path.join(curr_path, 'labs')\n",
    "data_path = ''\n",
    "img_path = curr_path+'/images'\n",
    "label_path = curr_path+'/labels'"
   ]
  },
  {
   "cell_type": "code",
   "execution_count": 48,
   "metadata": {},
   "outputs": [
    {
     "data": {
      "text/plain": [
       "'c:\\\\Users\\\\juank\\\\Desktop\\\\NoDigasMamadas/images'"
      ]
     },
     "execution_count": 48,
     "metadata": {},
     "output_type": "execute_result"
    }
   ],
   "source": [
    "img_path"
   ]
  },
  {
   "cell_type": "code",
   "execution_count": 36,
   "metadata": {},
   "outputs": [
    {
     "data": {
      "text/plain": [
       "['test', 'train', 'val']"
      ]
     },
     "execution_count": 36,
     "metadata": {},
     "output_type": "execute_result"
    }
   ],
   "source": [
    "faceList = os.listdir(img_path)\n",
    "faceList[:3]"
   ]
  },
  {
   "cell_type": "code",
   "execution_count": 35,
   "metadata": {},
   "outputs": [
    {
     "data": {
      "text/plain": [
       "715"
      ]
     },
     "execution_count": 35,
     "metadata": {},
     "output_type": "execute_result"
    }
   ],
   "source": [
    "dataSize = len(faceList)\n",
    "dataSize"
   ]
  },
  {
   "cell_type": "code",
   "execution_count": 32,
   "metadata": {},
   "outputs": [
    {
     "data": {
      "text/plain": [
       "['video_11min_598.jpg',\n",
       " 'video_11min_122.jpg',\n",
       " 'video_11min_107.jpg',\n",
       " 'video_11min_059.jpg',\n",
       " 'video_11min_601.jpg']"
      ]
     },
     "execution_count": 32,
     "metadata": {},
     "output_type": "execute_result"
    }
   ],
   "source": [
    "random.shuffle(faceList)\n",
    "faceList[:5]"
   ]
  },
  {
   "cell_type": "code",
   "execution_count": 59,
   "metadata": {},
   "outputs": [
    {
     "data": {
      "text/plain": [
       "(500, 72, 143)"
      ]
     },
     "execution_count": 59,
     "metadata": {},
     "output_type": "execute_result"
    }
   ],
   "source": [
    "trainSplit = 0.7\n",
    "valSplit = 0.1\n",
    "testSplit = 0.2\n",
    "\n",
    "imgTrainList = faceList[:int(dataSize*trainSplit)]\n",
    "imgValList = faceList[int(dataSize*trainSplit):int(dataSize*(trainSplit+valSplit))]\n",
    "imgTestList = faceList[int(dataSize*(trainSplit+valSplit)):]\n",
    "len(imgTrainList), len(imgValList), len(imgTestList)"
   ]
  },
  {
   "cell_type": "code",
   "execution_count": 50,
   "metadata": {},
   "outputs": [
    {
     "data": {
      "text/plain": [
       "(0, 0, 0)"
      ]
     },
     "execution_count": 50,
     "metadata": {},
     "output_type": "execute_result"
    }
   ],
   "source": [
    "imgTrainList = os.listdir(img_train_path)\n",
    "imgValList = os.listdir(img_val_path)\n",
    "imgTestList = os.listdir(img_test_path)\n",
    "len(imgTrainList), len(imgValList), len(imgTestList)"
   ]
  },
  {
   "cell_type": "code",
   "execution_count": 60,
   "metadata": {},
   "outputs": [],
   "source": [
    "def move_files(data_list, source_path, destination_path):\n",
    "    i=0\n",
    "    for file in data_list:\n",
    "        filepath=os.path.join(source_path, file)\n",
    "        dest_path=os.path.join(data_path, destination_path)\n",
    "        if not os.path.isdir(dest_path):\n",
    "            os.makedirs(dest_path)\n",
    "        shutil.move(filepath, dest_path)\n",
    "        i=i+1\n",
    "    print(\"Number of files transferred:\", i)"
   ]
  },
  {
   "cell_type": "code",
   "execution_count": 69,
   "metadata": {},
   "outputs": [],
   "source": [
    "def_size = 300\n",
    "def move_images(data_list, source_path, destination_path):\n",
    "    i=0\n",
    "    for file in data_list:\n",
    "        filepath=os.path.join(source_path, file)\n",
    "        dest_path=os.path.join(data_path, destination_path)\n",
    "\n",
    "        if not os.path.isdir(dest_path):\n",
    "            os.makedirs(dest_path)\n",
    "        finalimage_path=os.path.join(dest_path, file)\n",
    "        try:\n",
    "            img_resized=cv2.resize(cv2.imread(filepath), (def_size, def_size))\n",
    "            cv2.imwrite(finalimage_path, img_resized)\n",
    "        except:\n",
    "            print(\"Error\")\n",
    "        i=i+1\n",
    "    print(\"Number of files transferred:\", i)"
   ]
  },
  {
   "cell_type": "code",
   "execution_count": 66,
   "metadata": {},
   "outputs": [
    {
     "data": {
      "text/plain": [
       "(500, 72, 143)"
      ]
     },
     "execution_count": 66,
     "metadata": {},
     "output_type": "execute_result"
    }
   ],
   "source": [
    "def_size = 300\n",
    "space = ' '\n",
    "new_line = '\\n'\n",
    "text = '.txt'\n",
    "class_id = 0\n",
    "\n",
    "def change_extension(file):\n",
    "    basename=os.path.splitext(file)[0]\n",
    "    filename=basename+text\n",
    "    return filename\n",
    "\n",
    "labelTrainList = list(map(change_extension, imgTrainList))\n",
    "labelValList = list(map(change_extension, imgValList))\n",
    "labelTestList = list(map(change_extension, imgTestList))\n",
    "len(labelTrainList), len(labelValList), len(labelTestList)"
   ]
  },
  {
   "cell_type": "code",
   "execution_count": 67,
   "metadata": {},
   "outputs": [
    {
     "data": {
      "text/plain": [
       "500"
      ]
     },
     "execution_count": 67,
     "metadata": {},
     "output_type": "execute_result"
    }
   ],
   "source": [
    "len(imgTrainList)"
   ]
  },
  {
   "cell_type": "code",
   "execution_count": 70,
   "metadata": {},
   "outputs": [
    {
     "name": "stdout",
     "output_type": "stream",
     "text": [
      "Error\n"
     ]
    },
    {
     "ename": "UnboundLocalError",
     "evalue": "local variable 'img_resized' referenced before assignment",
     "output_type": "error",
     "traceback": [
      "\u001b[1;31m---------------------------------------------------------------------------\u001b[0m",
      "\u001b[1;31mUnboundLocalError\u001b[0m                         Traceback (most recent call last)",
      "\u001b[1;32m<ipython-input-70-3d8b2c4e755c>\u001b[0m in \u001b[0;36m<module>\u001b[1;34m\u001b[0m\n\u001b[1;32m----> 1\u001b[1;33m \u001b[0mmove_images\u001b[0m\u001b[1;33m(\u001b[0m\u001b[0mimgTrainList\u001b[0m\u001b[1;33m,\u001b[0m \u001b[0mimg_path\u001b[0m\u001b[1;33m,\u001b[0m \u001b[0mimg_train_path\u001b[0m\u001b[1;33m)\u001b[0m\u001b[1;33m\u001b[0m\u001b[1;33m\u001b[0m\u001b[0m\n\u001b[0m",
      "\u001b[1;32m<ipython-input-69-5532415ac3fe>\u001b[0m in \u001b[0;36mmove_images\u001b[1;34m(data_list, source_path, destination_path)\u001b[0m\n\u001b[0;32m     13\u001b[0m         \u001b[1;32mexcept\u001b[0m\u001b[1;33m:\u001b[0m\u001b[1;33m\u001b[0m\u001b[1;33m\u001b[0m\u001b[0m\n\u001b[0;32m     14\u001b[0m             \u001b[0mprint\u001b[0m\u001b[1;33m(\u001b[0m\u001b[1;34m\"Error\"\u001b[0m\u001b[1;33m)\u001b[0m\u001b[1;33m\u001b[0m\u001b[1;33m\u001b[0m\u001b[0m\n\u001b[1;32m---> 15\u001b[1;33m         \u001b[0mcv2\u001b[0m\u001b[1;33m.\u001b[0m\u001b[0mimwrite\u001b[0m\u001b[1;33m(\u001b[0m\u001b[0mfinalimage_path\u001b[0m\u001b[1;33m,\u001b[0m \u001b[0mimg_resized\u001b[0m\u001b[1;33m)\u001b[0m\u001b[1;33m\u001b[0m\u001b[1;33m\u001b[0m\u001b[0m\n\u001b[0m\u001b[0;32m     16\u001b[0m         \u001b[0mi\u001b[0m\u001b[1;33m=\u001b[0m\u001b[0mi\u001b[0m\u001b[1;33m+\u001b[0m\u001b[1;36m1\u001b[0m\u001b[1;33m\u001b[0m\u001b[1;33m\u001b[0m\u001b[0m\n\u001b[0;32m     17\u001b[0m     \u001b[0mprint\u001b[0m\u001b[1;33m(\u001b[0m\u001b[1;34m\"Number of files transferred:\"\u001b[0m\u001b[1;33m,\u001b[0m \u001b[0mi\u001b[0m\u001b[1;33m)\u001b[0m\u001b[1;33m\u001b[0m\u001b[1;33m\u001b[0m\u001b[0m\n",
      "\u001b[1;31mUnboundLocalError\u001b[0m: local variable 'img_resized' referenced before assignment"
     ]
    }
   ],
   "source": [
    "move_images(imgTrainList, img_path, img_train_path)"
   ]
  }
 ],
 "metadata": {
  "kernelspec": {
   "display_name": "Python 3",
   "language": "python",
   "name": "python3"
  },
  "language_info": {
   "codemirror_mode": {
    "name": "ipython",
    "version": 3
   },
   "file_extension": ".py",
   "mimetype": "text/x-python",
   "name": "python",
   "nbconvert_exporter": "python",
   "pygments_lexer": "ipython3",
   "version": "3.8.1"
  }
 },
 "nbformat": 4,
 "nbformat_minor": 2
}
